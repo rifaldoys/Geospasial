{
  "nbformat": 4,
  "nbformat_minor": 0,
  "metadata": {
    "colab": {
      "provenance": []
    },
    "kernelspec": {
      "name": "python3",
      "display_name": "Python 3"
    },
    "language_info": {
      "name": "python"
    },
    "widgets": {
      "application/vnd.jupyter.widget-state+json": {
        "6b9280476d634c02925ab4d52b138456": {
          "model_module": "jupyter-leaflet",
          "model_name": "LeafletMapModel",
          "model_module_version": "^0.18",
          "state": {
            "_dom_classes": [],
            "_model_module": "jupyter-leaflet",
            "_model_module_version": "^0.18",
            "_model_name": "LeafletMapModel",
            "_view_count": null,
            "_view_module": "jupyter-leaflet",
            "_view_module_version": "^0.18",
            "_view_name": "LeafletMapView",
            "bottom": 2178828,
            "bounce_at_zoom_limits": true,
            "box_zoom": true,
            "center": [
              -6.961870493881151,
              110.44023513793947
            ],
            "close_popup_on_click": true,
            "controls": [
              "IPY_MODEL_cf35d19ce4a5471589f8b2b456177db8",
              "IPY_MODEL_50d13a380ed340829765174fffb2e09b",
              "IPY_MODEL_47a023f2d4fe4f3e99d0b337bbb8ccba",
              "IPY_MODEL_8139f8a3777c4aae832c6c7b3499f2ad",
              "IPY_MODEL_9f7a308038ba4ebeb39645fb63e2bfaf",
              "IPY_MODEL_738be1e76b8e4ff584618f0ac7db2776",
              "IPY_MODEL_b15fd9801a6648eb81f3f5ad955499d7",
              "IPY_MODEL_532ffae600a74c45b08fc218c84e62aa",
              "IPY_MODEL_5c3a7ceafdcf4eb5aaaa0fc43d086125",
              "IPY_MODEL_0b0dd3c481f04bb4a4e46ba183614e07",
              "IPY_MODEL_573b94cceabf4cdbbaeef6567c11c96f",
              "IPY_MODEL_0c0cdc698c4740d6bfd5a71785decaff"
            ],
            "crs": {
              "name": "EPSG3857",
              "custom": false
            },
            "default_style": "IPY_MODEL_da18f8ac7ede4cfea2477ffc1ac01437",
            "double_click_zoom": true,
            "dragging": true,
            "dragging_style": "IPY_MODEL_9ef933fa8a4e49909a21de00258d3a94",
            "east": 110.69618225097658,
            "fullscreen": false,
            "inertia": true,
            "inertia_deceleration": 3000,
            "inertia_max_speed": 1500,
            "interpolation": "bilinear",
            "keyboard": true,
            "keyboard_pan_offset": 80,
            "keyboard_zoom_offset": 1,
            "layers": [
              "IPY_MODEL_255aca1d231d499ba744c9123d72e9bc",
              "IPY_MODEL_367527c82f2a44c29eb1279b8e4e463c",
              "IPY_MODEL_5ca0ef7b6d3f4a2a87b0a4d1bf5c03b9",
              "IPY_MODEL_62bf57e5953d48b284b963a3e3c94d6e"
            ],
            "layout": "IPY_MODEL_495545441c58425ebb7536c2b9858a40",
            "left": 845223,
            "max_zoom": 24,
            "min_zoom": null,
            "modisdate": "2024-01-12",
            "north": -6.9417633681161774,
            "options": [
              "bounce_at_zoom_limits",
              "box_zoom",
              "center",
              "close_popup_on_click",
              "double_click_zoom",
              "dragging",
              "fullscreen",
              "inertia",
              "inertia_deceleration",
              "inertia_max_speed",
              "interpolation",
              "keyboard",
              "keyboard_pan_offset",
              "keyboard_zoom_offset",
              "max_zoom",
              "min_zoom",
              "prefer_canvas",
              "scroll_wheel_zoom",
              "tap",
              "tap_tolerance",
              "touch_zoom",
              "world_copy_jump",
              "zoom",
              "zoom_animation_threshold",
              "zoom_delta",
              "zoom_snap"
            ],
            "panes": {},
            "prefer_canvas": false,
            "right": 846714,
            "scroll_wheel_zoom": true,
            "south": -6.992881489223879,
            "style": "IPY_MODEL_da18f8ac7ede4cfea2477ffc1ac01437",
            "tap": true,
            "tap_tolerance": 15,
            "top": 2178228,
            "touch_zoom": true,
            "west": 110.18428802490236,
            "window_url": "https://ljbzdkd99f8-496ff2e9c6d22116-0-colab.googleusercontent.com/outputframe.html?vrz=colab_20240111-060117_RC01_597566451",
            "world_copy_jump": false,
            "zoom": 14,
            "zoom_animation_threshold": 4,
            "zoom_delta": 1,
            "zoom_snap": 1
          }
        },
        "cf35d19ce4a5471589f8b2b456177db8": {
          "model_module": "jupyter-leaflet",
          "model_name": "LeafletWidgetControlModel",
          "model_module_version": "^0.18",
          "state": {
            "_model_module": "jupyter-leaflet",
            "_model_module_version": "^0.18",
            "_model_name": "LeafletWidgetControlModel",
            "_view_count": null,
            "_view_module": "jupyter-leaflet",
            "_view_module_version": "^0.18",
            "_view_name": "LeafletWidgetControlView",
            "max_height": null,
            "max_width": null,
            "min_height": null,
            "min_width": null,
            "options": [
              "position",
              "transparent_bg"
            ],
            "position": "topleft",
            "transparent_bg": false,
            "widget": "IPY_MODEL_fdc4b22d21f4404ebe25b6629408dd1a"
          }
        },
        "50d13a380ed340829765174fffb2e09b": {
          "model_module": "jupyter-leaflet",
          "model_name": "LeafletZoomControlModel",
          "model_module_version": "^0.18",
          "state": {
            "_model_module": "jupyter-leaflet",
            "_model_module_version": "^0.18",
            "_model_name": "LeafletZoomControlModel",
            "_view_count": null,
            "_view_module": "jupyter-leaflet",
            "_view_module_version": "^0.18",
            "_view_name": "LeafletZoomControlView",
            "options": [
              "position",
              "zoom_in_text",
              "zoom_in_title",
              "zoom_out_text",
              "zoom_out_title"
            ],
            "position": "topleft",
            "zoom_in_text": "+",
            "zoom_in_title": "Zoom in",
            "zoom_out_text": "-",
            "zoom_out_title": "Zoom out"
          }
        },
        "47a023f2d4fe4f3e99d0b337bbb8ccba": {
          "model_module": "jupyter-leaflet",
          "model_name": "LeafletFullScreenControlModel",
          "model_module_version": "^0.18",
          "state": {
            "_model_module": "jupyter-leaflet",
            "_model_module_version": "^0.18",
            "_model_name": "LeafletFullScreenControlModel",
            "_view_count": null,
            "_view_module": "jupyter-leaflet",
            "_view_module_version": "^0.18",
            "_view_name": "LeafletFullScreenControlView",
            "options": [
              "position"
            ],
            "position": "topleft"
          }
        },
        "8139f8a3777c4aae832c6c7b3499f2ad": {
          "model_module": "jupyter-leaflet",
          "model_name": "LeafletDrawControlModel",
          "model_module_version": "^0.18",
          "state": {
            "_model_module": "jupyter-leaflet",
            "_model_module_version": "^0.18",
            "_model_name": "LeafletDrawControlModel",
            "_view_count": null,
            "_view_module": "jupyter-leaflet",
            "_view_module_version": "^0.18",
            "_view_name": "LeafletDrawControlView",
            "circle": {},
            "circlemarker": {},
            "data": [],
            "edit": true,
            "marker": {
              "shapeOptions": {
                "color": "#3388ff"
              }
            },
            "options": [
              "position"
            ],
            "polygon": {
              "shapeOptions": {}
            },
            "polyline": {
              "shapeOptions": {}
            },
            "position": "topleft",
            "rectangle": {
              "shapeOptions": {
                "color": "#3388ff"
              }
            },
            "remove": true
          }
        },
        "9f7a308038ba4ebeb39645fb63e2bfaf": {
          "model_module": "jupyter-leaflet",
          "model_name": "LeafletScaleControlModel",
          "model_module_version": "^0.18",
          "state": {
            "_model_module": "jupyter-leaflet",
            "_model_module_version": "^0.18",
            "_model_name": "LeafletScaleControlModel",
            "_view_count": null,
            "_view_module": "jupyter-leaflet",
            "_view_module_version": "^0.18",
            "_view_name": "LeafletScaleControlView",
            "imperial": true,
            "max_width": 100,
            "metric": true,
            "options": [
              "imperial",
              "max_width",
              "metric",
              "position",
              "update_when_idle"
            ],
            "position": "bottomleft",
            "update_when_idle": false
          }
        },
        "738be1e76b8e4ff584618f0ac7db2776": {
          "model_module": "jupyter-leaflet",
          "model_name": "LeafletMeasureControlModel",
          "model_module_version": "^0.18",
          "state": {
            "_custom_units": {},
            "_model_module": "jupyter-leaflet",
            "_model_module_version": "^0.18",
            "_model_name": "LeafletMeasureControlModel",
            "_view_count": null,
            "_view_module": "jupyter-leaflet",
            "_view_module_version": "^0.18",
            "_view_name": "LeafletMeasureControlView",
            "active_color": "orange",
            "capture_z_index": 10000,
            "completed_color": "#C8F2BE",
            "options": [
              "active_color",
              "capture_z_index",
              "completed_color",
              "popup_options",
              "position",
              "primary_area_unit",
              "primary_length_unit",
              "secondary_area_unit",
              "secondary_length_unit"
            ],
            "popup_options": {
              "className": "leaflet-measure-resultpopup",
              "autoPanPadding": [
                10,
                10
              ]
            },
            "position": "bottomleft",
            "primary_area_unit": "acres",
            "primary_length_unit": "kilometers",
            "secondary_area_unit": null,
            "secondary_length_unit": null
          }
        },
        "b15fd9801a6648eb81f3f5ad955499d7": {
          "model_module": "jupyter-leaflet",
          "model_name": "LeafletWidgetControlModel",
          "model_module_version": "^0.18",
          "state": {
            "_model_module": "jupyter-leaflet",
            "_model_module_version": "^0.18",
            "_model_name": "LeafletWidgetControlModel",
            "_view_count": null,
            "_view_module": "jupyter-leaflet",
            "_view_module_version": "^0.18",
            "_view_name": "LeafletWidgetControlView",
            "max_height": null,
            "max_width": null,
            "min_height": null,
            "min_width": null,
            "options": [
              "position",
              "transparent_bg"
            ],
            "position": "topright",
            "transparent_bg": false,
            "widget": "IPY_MODEL_b5a59d5d75a543668f0c157702defb5a"
          }
        },
        "532ffae600a74c45b08fc218c84e62aa": {
          "model_module": "jupyter-leaflet",
          "model_name": "LeafletAttributionControlModel",
          "model_module_version": "^0.18",
          "state": {
            "_model_module": "jupyter-leaflet",
            "_model_module_version": "^0.18",
            "_model_name": "LeafletAttributionControlModel",
            "_view_count": null,
            "_view_module": "jupyter-leaflet",
            "_view_module_version": "^0.18",
            "_view_name": "LeafletAttributionControlView",
            "options": [
              "position",
              "prefix"
            ],
            "position": "bottomright",
            "prefix": "ipyleaflet"
          }
        },
        "5c3a7ceafdcf4eb5aaaa0fc43d086125": {
          "model_module": "jupyter-leaflet",
          "model_name": "LeafletLayersControlModel",
          "model_module_version": "^0.18",
          "state": {
            "_model_module": "jupyter-leaflet",
            "_model_module_version": "^0.18",
            "_model_name": "LeafletLayersControlModel",
            "_view_count": null,
            "_view_module": "jupyter-leaflet",
            "_view_module_version": "^0.18",
            "_view_name": "LeafletLayersControlView",
            "collapsed": true,
            "options": [
              "collapsed",
              "position"
            ],
            "position": "topright"
          }
        },
        "da18f8ac7ede4cfea2477ffc1ac01437": {
          "model_module": "jupyter-leaflet",
          "model_name": "LeafletMapStyleModel",
          "model_module_version": "^0.18",
          "state": {
            "_model_module": "jupyter-leaflet",
            "_model_module_version": "^0.18",
            "_model_name": "LeafletMapStyleModel",
            "_view_count": null,
            "_view_module": "@jupyter-widgets/base",
            "_view_module_version": "1.2.0",
            "_view_name": "StyleView",
            "cursor": "grab"
          }
        },
        "9ef933fa8a4e49909a21de00258d3a94": {
          "model_module": "jupyter-leaflet",
          "model_name": "LeafletMapStyleModel",
          "model_module_version": "^0.18",
          "state": {
            "_model_module": "jupyter-leaflet",
            "_model_module_version": "^0.18",
            "_model_name": "LeafletMapStyleModel",
            "_view_count": null,
            "_view_module": "@jupyter-widgets/base",
            "_view_module_version": "1.2.0",
            "_view_name": "StyleView",
            "cursor": "move"
          }
        },
        "255aca1d231d499ba744c9123d72e9bc": {
          "model_module": "jupyter-leaflet",
          "model_name": "LeafletTileLayerModel",
          "model_module_version": "^0.18",
          "state": {
            "_model_module": "jupyter-leaflet",
            "_model_module_version": "^0.18",
            "_model_name": "LeafletTileLayerModel",
            "_view_count": null,
            "_view_module": "jupyter-leaflet",
            "_view_module_version": "^0.18",
            "_view_name": "LeafletTileLayerView",
            "attribution": "&copy; <a href=\"https://www.openstreetmap.org/copyright\">OpenStreetMap</a> contributors",
            "base": true,
            "bottom": true,
            "bounds": null,
            "detect_retina": false,
            "loading": false,
            "max_native_zoom": null,
            "max_zoom": 19,
            "min_native_zoom": null,
            "min_zoom": 1,
            "name": "OpenStreetMap.Mapnik",
            "no_wrap": false,
            "opacity": 1,
            "options": [
              "attribution",
              "bounds",
              "detect_retina",
              "max_native_zoom",
              "max_zoom",
              "min_native_zoom",
              "min_zoom",
              "no_wrap",
              "tile_size",
              "tms",
              "zoom_offset"
            ],
            "pane": "",
            "popup": null,
            "popup_max_height": null,
            "popup_max_width": 300,
            "popup_min_width": 50,
            "show_loading": false,
            "subitems": [],
            "tile_size": 256,
            "tms": false,
            "url": "https://tile.openstreetmap.org/{z}/{x}/{y}.png",
            "visible": true,
            "zoom_offset": 0
          }
        },
        "367527c82f2a44c29eb1279b8e4e463c": {
          "model_module": "jupyter-leaflet",
          "model_name": "LeafletTileLayerModel",
          "model_module_version": "^0.18",
          "state": {
            "_model_module": "jupyter-leaflet",
            "_model_module_version": "^0.18",
            "_model_name": "LeafletTileLayerModel",
            "_view_count": null,
            "_view_module": "jupyter-leaflet",
            "_view_module_version": "^0.18",
            "_view_name": "LeafletTileLayerView",
            "attribution": "Google Earth Engine",
            "base": false,
            "bottom": true,
            "bounds": null,
            "detect_retina": false,
            "loading": false,
            "max_native_zoom": null,
            "max_zoom": 24,
            "min_native_zoom": null,
            "min_zoom": 0,
            "name": "Kepadatan Penduduk",
            "no_wrap": false,
            "opacity": 1,
            "options": [
              "attribution",
              "bounds",
              "detect_retina",
              "max_native_zoom",
              "max_zoom",
              "min_native_zoom",
              "min_zoom",
              "no_wrap",
              "tile_size",
              "tms",
              "zoom_offset"
            ],
            "pane": "",
            "popup": null,
            "popup_max_height": null,
            "popup_max_width": 300,
            "popup_min_width": 50,
            "show_loading": false,
            "subitems": [],
            "tile_size": 256,
            "tms": false,
            "url": "https://earthengine.googleapis.com/v1/projects/ee-21110031/maps/ec149b68a8483aba4734fbadc044660d-95254f7841acb174dbb14706ab2fefbf/tiles/{z}/{x}/{y}",
            "visible": true,
            "zoom_offset": 0
          }
        },
        "495545441c58425ebb7536c2b9858a40": {
          "model_module": "@jupyter-widgets/base",
          "model_name": "LayoutModel",
          "model_module_version": "1.2.0",
          "state": {
            "_model_module": "@jupyter-widgets/base",
            "_model_module_version": "1.2.0",
            "_model_name": "LayoutModel",
            "_view_count": null,
            "_view_module": "@jupyter-widgets/base",
            "_view_module_version": "1.2.0",
            "_view_name": "LayoutView",
            "align_content": null,
            "align_items": null,
            "align_self": null,
            "border": null,
            "bottom": null,
            "display": null,
            "flex": null,
            "flex_flow": null,
            "grid_area": null,
            "grid_auto_columns": null,
            "grid_auto_flow": null,
            "grid_auto_rows": null,
            "grid_column": null,
            "grid_gap": null,
            "grid_row": null,
            "grid_template_areas": null,
            "grid_template_columns": null,
            "grid_template_rows": null,
            "height": "600px",
            "justify_content": null,
            "justify_items": null,
            "left": null,
            "margin": null,
            "max_height": null,
            "max_width": null,
            "min_height": null,
            "min_width": null,
            "object_fit": null,
            "object_position": null,
            "order": null,
            "overflow": null,
            "overflow_x": null,
            "overflow_y": null,
            "padding": null,
            "right": null,
            "top": null,
            "visibility": null,
            "width": null
          }
        },
        "ad6eb798c7b946ee8a6528a9507f7029": {
          "model_module": "jupyter-leaflet",
          "model_name": "LeafletMapStyleModel",
          "model_module_version": "^0.18",
          "state": {
            "_model_module": "jupyter-leaflet",
            "_model_module_version": "^0.18",
            "_model_name": "LeafletMapStyleModel",
            "_view_count": null,
            "_view_module": "@jupyter-widgets/base",
            "_view_module_version": "1.2.0",
            "_view_name": "StyleView",
            "cursor": "grab"
          }
        },
        "fdc4b22d21f4404ebe25b6629408dd1a": {
          "model_module": "@jupyter-widgets/controls",
          "model_name": "HBoxModel",
          "model_module_version": "1.5.0",
          "state": {
            "_dom_classes": [
              "geemap-colab"
            ],
            "_model_module": "@jupyter-widgets/controls",
            "_model_module_version": "1.5.0",
            "_model_name": "HBoxModel",
            "_view_count": null,
            "_view_module": "@jupyter-widgets/controls",
            "_view_module_version": "1.5.0",
            "_view_name": "HBoxView",
            "box_style": "",
            "children": [
              "IPY_MODEL_5ffc8d5aaafe4fd5aef83771b532b27b"
            ],
            "layout": "IPY_MODEL_d5b19cdfa80a464691f8e2b2d62af3ee"
          }
        },
        "b5a59d5d75a543668f0c157702defb5a": {
          "model_module": "@jupyter-widgets/controls",
          "model_name": "VBoxModel",
          "model_module_version": "1.5.0",
          "state": {
            "_dom_classes": [
              "geemap-colab"
            ],
            "_model_module": "@jupyter-widgets/controls",
            "_model_module_version": "1.5.0",
            "_model_name": "VBoxModel",
            "_view_count": null,
            "_view_module": "@jupyter-widgets/controls",
            "_view_module_version": "1.5.0",
            "_view_name": "VBoxView",
            "box_style": "",
            "children": [
              "IPY_MODEL_a9addd98441d4ede8b408896d6c31abe"
            ],
            "layout": "IPY_MODEL_5d67ab304b7c48ae85960791502717e3"
          }
        },
        "5ffc8d5aaafe4fd5aef83771b532b27b": {
          "model_module": "@jupyter-widgets/controls",
          "model_name": "ToggleButtonModel",
          "model_module_version": "1.5.0",
          "state": {
            "_dom_classes": [],
            "_model_module": "@jupyter-widgets/controls",
            "_model_module_version": "1.5.0",
            "_model_name": "ToggleButtonModel",
            "_view_count": null,
            "_view_module": "@jupyter-widgets/controls",
            "_view_module_version": "1.5.0",
            "_view_name": "ToggleButtonView",
            "button_style": "",
            "description": "",
            "description_tooltip": null,
            "disabled": false,
            "icon": "globe",
            "layout": "IPY_MODEL_e7f16531e9df478cb6f5370c56ed4582",
            "style": "IPY_MODEL_243161136f7d411a946e056b6c1dbe43",
            "tooltip": "Search location/data",
            "value": false
          }
        },
        "d5b19cdfa80a464691f8e2b2d62af3ee": {
          "model_module": "@jupyter-widgets/base",
          "model_name": "LayoutModel",
          "model_module_version": "1.2.0",
          "state": {
            "_model_module": "@jupyter-widgets/base",
            "_model_module_version": "1.2.0",
            "_model_name": "LayoutModel",
            "_view_count": null,
            "_view_module": "@jupyter-widgets/base",
            "_view_module_version": "1.2.0",
            "_view_name": "LayoutView",
            "align_content": null,
            "align_items": null,
            "align_self": null,
            "border": null,
            "bottom": null,
            "display": null,
            "flex": null,
            "flex_flow": null,
            "grid_area": null,
            "grid_auto_columns": null,
            "grid_auto_flow": null,
            "grid_auto_rows": null,
            "grid_column": null,
            "grid_gap": null,
            "grid_row": null,
            "grid_template_areas": null,
            "grid_template_columns": null,
            "grid_template_rows": null,
            "height": null,
            "justify_content": null,
            "justify_items": null,
            "left": null,
            "margin": null,
            "max_height": null,
            "max_width": null,
            "min_height": null,
            "min_width": null,
            "object_fit": null,
            "object_position": null,
            "order": null,
            "overflow": null,
            "overflow_x": null,
            "overflow_y": null,
            "padding": null,
            "right": null,
            "top": null,
            "visibility": null,
            "width": null
          }
        },
        "a9addd98441d4ede8b408896d6c31abe": {
          "model_module": "@jupyter-widgets/controls",
          "model_name": "ToggleButtonModel",
          "model_module_version": "1.5.0",
          "state": {
            "_dom_classes": [],
            "_model_module": "@jupyter-widgets/controls",
            "_model_module_version": "1.5.0",
            "_model_name": "ToggleButtonModel",
            "_view_count": null,
            "_view_module": "@jupyter-widgets/controls",
            "_view_module_version": "1.5.0",
            "_view_name": "ToggleButtonView",
            "button_style": "",
            "description": "",
            "description_tooltip": null,
            "disabled": false,
            "icon": "wrench",
            "layout": "IPY_MODEL_5549c68b41354d149b2f96c3f7013258",
            "style": "IPY_MODEL_2b6bb160dfa743dca0e5bf902d572af2",
            "tooltip": "Toolbar",
            "value": false
          }
        },
        "5d67ab304b7c48ae85960791502717e3": {
          "model_module": "@jupyter-widgets/base",
          "model_name": "LayoutModel",
          "model_module_version": "1.2.0",
          "state": {
            "_model_module": "@jupyter-widgets/base",
            "_model_module_version": "1.2.0",
            "_model_name": "LayoutModel",
            "_view_count": null,
            "_view_module": "@jupyter-widgets/base",
            "_view_module_version": "1.2.0",
            "_view_name": "LayoutView",
            "align_content": null,
            "align_items": null,
            "align_self": null,
            "border": null,
            "bottom": null,
            "display": null,
            "flex": null,
            "flex_flow": null,
            "grid_area": null,
            "grid_auto_columns": null,
            "grid_auto_flow": null,
            "grid_auto_rows": null,
            "grid_column": null,
            "grid_gap": null,
            "grid_row": null,
            "grid_template_areas": null,
            "grid_template_columns": null,
            "grid_template_rows": null,
            "height": null,
            "justify_content": null,
            "justify_items": null,
            "left": null,
            "margin": null,
            "max_height": null,
            "max_width": null,
            "min_height": null,
            "min_width": null,
            "object_fit": null,
            "object_position": null,
            "order": null,
            "overflow": null,
            "overflow_x": null,
            "overflow_y": null,
            "padding": null,
            "right": null,
            "top": null,
            "visibility": null,
            "width": null
          }
        },
        "e7f16531e9df478cb6f5370c56ed4582": {
          "model_module": "@jupyter-widgets/base",
          "model_name": "LayoutModel",
          "model_module_version": "1.2.0",
          "state": {
            "_model_module": "@jupyter-widgets/base",
            "_model_module_version": "1.2.0",
            "_model_name": "LayoutModel",
            "_view_count": null,
            "_view_module": "@jupyter-widgets/base",
            "_view_module_version": "1.2.0",
            "_view_name": "LayoutView",
            "align_content": null,
            "align_items": null,
            "align_self": null,
            "border": null,
            "bottom": null,
            "display": null,
            "flex": null,
            "flex_flow": null,
            "grid_area": null,
            "grid_auto_columns": null,
            "grid_auto_flow": null,
            "grid_auto_rows": null,
            "grid_column": null,
            "grid_gap": null,
            "grid_row": null,
            "grid_template_areas": null,
            "grid_template_columns": null,
            "grid_template_rows": null,
            "height": "28px",
            "justify_content": null,
            "justify_items": null,
            "left": null,
            "margin": null,
            "max_height": null,
            "max_width": null,
            "min_height": null,
            "min_width": null,
            "object_fit": null,
            "object_position": null,
            "order": null,
            "overflow": null,
            "overflow_x": null,
            "overflow_y": null,
            "padding": "0px 0px 0px 4px",
            "right": null,
            "top": null,
            "visibility": null,
            "width": "28px"
          }
        },
        "243161136f7d411a946e056b6c1dbe43": {
          "model_module": "@jupyter-widgets/controls",
          "model_name": "DescriptionStyleModel",
          "model_module_version": "1.5.0",
          "state": {
            "_model_module": "@jupyter-widgets/controls",
            "_model_module_version": "1.5.0",
            "_model_name": "DescriptionStyleModel",
            "_view_count": null,
            "_view_module": "@jupyter-widgets/base",
            "_view_module_version": "1.2.0",
            "_view_name": "StyleView",
            "description_width": ""
          }
        },
        "5549c68b41354d149b2f96c3f7013258": {
          "model_module": "@jupyter-widgets/base",
          "model_name": "LayoutModel",
          "model_module_version": "1.2.0",
          "state": {
            "_model_module": "@jupyter-widgets/base",
            "_model_module_version": "1.2.0",
            "_model_name": "LayoutModel",
            "_view_count": null,
            "_view_module": "@jupyter-widgets/base",
            "_view_module_version": "1.2.0",
            "_view_name": "LayoutView",
            "align_content": null,
            "align_items": null,
            "align_self": null,
            "border": null,
            "bottom": null,
            "display": null,
            "flex": null,
            "flex_flow": null,
            "grid_area": null,
            "grid_auto_columns": null,
            "grid_auto_flow": null,
            "grid_auto_rows": null,
            "grid_column": null,
            "grid_gap": null,
            "grid_row": null,
            "grid_template_areas": null,
            "grid_template_columns": null,
            "grid_template_rows": null,
            "height": "28px",
            "justify_content": null,
            "justify_items": null,
            "left": null,
            "margin": null,
            "max_height": null,
            "max_width": null,
            "min_height": null,
            "min_width": null,
            "object_fit": null,
            "object_position": null,
            "order": null,
            "overflow": null,
            "overflow_x": null,
            "overflow_y": null,
            "padding": "0px 0px 0px 4px",
            "right": null,
            "top": null,
            "visibility": null,
            "width": "28px"
          }
        },
        "2b6bb160dfa743dca0e5bf902d572af2": {
          "model_module": "@jupyter-widgets/controls",
          "model_name": "DescriptionStyleModel",
          "model_module_version": "1.5.0",
          "state": {
            "_model_module": "@jupyter-widgets/controls",
            "_model_module_version": "1.5.0",
            "_model_name": "DescriptionStyleModel",
            "_view_count": null,
            "_view_module": "@jupyter-widgets/base",
            "_view_module_version": "1.2.0",
            "_view_name": "StyleView",
            "description_width": ""
          }
        },
        "5ca0ef7b6d3f4a2a87b0a4d1bf5c03b9": {
          "model_module": "jupyter-leaflet",
          "model_name": "LeafletTileLayerModel",
          "model_module_version": "^0.18",
          "state": {
            "_model_module": "jupyter-leaflet",
            "_model_module_version": "^0.18",
            "_model_name": "LeafletTileLayerModel",
            "_view_count": null,
            "_view_module": "jupyter-leaflet",
            "_view_module_version": "^0.18",
            "_view_name": "LeafletTileLayerView",
            "attribution": "Google Earth Engine",
            "base": false,
            "bottom": true,
            "bounds": null,
            "detect_retina": false,
            "loading": false,
            "max_native_zoom": null,
            "max_zoom": 24,
            "min_native_zoom": null,
            "min_zoom": 0,
            "name": "Bencana ke-1",
            "no_wrap": false,
            "opacity": 1,
            "options": [
              "attribution",
              "bounds",
              "detect_retina",
              "max_native_zoom",
              "max_zoom",
              "min_native_zoom",
              "min_zoom",
              "no_wrap",
              "tile_size",
              "tms",
              "zoom_offset"
            ],
            "pane": "",
            "popup": null,
            "popup_max_height": null,
            "popup_max_width": 300,
            "popup_min_width": 50,
            "show_loading": false,
            "subitems": [],
            "tile_size": 256,
            "tms": false,
            "url": "https://earthengine.googleapis.com/v1/projects/ee-21110031/maps/90b6bc0bd4fbc519ec41af7b852f2e4c-ecd6aa5ea47eb765dc8ff1cc617f7696/tiles/{z}/{x}/{y}",
            "visible": true,
            "zoom_offset": 0
          }
        },
        "0b0dd3c481f04bb4a4e46ba183614e07": {
          "model_module": "jupyter-leaflet",
          "model_name": "LeafletLayersControlModel",
          "model_module_version": "^0.18",
          "state": {
            "_model_module": "jupyter-leaflet",
            "_model_module_version": "^0.18",
            "_model_name": "LeafletLayersControlModel",
            "_view_count": null,
            "_view_module": "jupyter-leaflet",
            "_view_module_version": "^0.18",
            "_view_name": "LeafletLayersControlView",
            "collapsed": true,
            "options": [
              "collapsed",
              "position"
            ],
            "position": "topright"
          }
        },
        "62bf57e5953d48b284b963a3e3c94d6e": {
          "model_module": "jupyter-leaflet",
          "model_name": "LeafletTileLayerModel",
          "model_module_version": "^0.18",
          "state": {
            "_model_module": "jupyter-leaflet",
            "_model_module_version": "^0.18",
            "_model_name": "LeafletTileLayerModel",
            "_view_count": null,
            "_view_module": "jupyter-leaflet",
            "_view_module_version": "^0.18",
            "_view_name": "LeafletTileLayerView",
            "attribution": "Google Earth Engine",
            "base": false,
            "bottom": true,
            "bounds": null,
            "detect_retina": false,
            "loading": false,
            "max_native_zoom": null,
            "max_zoom": 24,
            "min_native_zoom": null,
            "min_zoom": 0,
            "name": "Bencana ke-2",
            "no_wrap": false,
            "opacity": 1,
            "options": [
              "attribution",
              "bounds",
              "detect_retina",
              "max_native_zoom",
              "max_zoom",
              "min_native_zoom",
              "min_zoom",
              "no_wrap",
              "tile_size",
              "tms",
              "zoom_offset"
            ],
            "pane": "",
            "popup": null,
            "popup_max_height": null,
            "popup_max_width": 300,
            "popup_min_width": 50,
            "show_loading": false,
            "subitems": [],
            "tile_size": 256,
            "tms": false,
            "url": "https://earthengine.googleapis.com/v1/projects/ee-21110031/maps/5c77f8f1d6f9735c27520c3f30b1aaf3-5c4d6ae7628024841e127a5663ddf613/tiles/{z}/{x}/{y}",
            "visible": true,
            "zoom_offset": 0
          }
        },
        "573b94cceabf4cdbbaeef6567c11c96f": {
          "model_module": "jupyter-leaflet",
          "model_name": "LeafletLayersControlModel",
          "model_module_version": "^0.18",
          "state": {
            "_model_module": "jupyter-leaflet",
            "_model_module_version": "^0.18",
            "_model_name": "LeafletLayersControlModel",
            "_view_count": null,
            "_view_module": "jupyter-leaflet",
            "_view_module_version": "^0.18",
            "_view_name": "LeafletLayersControlView",
            "collapsed": true,
            "options": [
              "collapsed",
              "position"
            ],
            "position": "topright"
          }
        },
        "0c0cdc698c4740d6bfd5a71785decaff": {
          "model_module": "jupyter-leaflet",
          "model_name": "LeafletLayersControlModel",
          "model_module_version": "^0.18",
          "state": {
            "_model_module": "jupyter-leaflet",
            "_model_module_version": "^0.18",
            "_model_name": "LeafletLayersControlModel",
            "_view_count": null,
            "_view_module": "jupyter-leaflet",
            "_view_module_version": "^0.18",
            "_view_name": "LeafletLayersControlView",
            "collapsed": true,
            "options": [
              "collapsed",
              "position"
            ],
            "position": "topright"
          }
        }
      }
    }
  },
  "cells": [
    {
      "cell_type": "markdown",
      "source": [
        "#Install geemap & ee"
      ],
      "metadata": {
        "id": "zpn6VSME9Elu"
      }
    },
    {
      "cell_type": "code",
      "execution_count": null,
      "metadata": {
        "colab": {
          "base_uri": "https://localhost:8080/",
          "height": 1000
        },
        "id": "xq1eBLTp9KwI",
        "outputId": "70da3a72-1b7a-415c-da39-e465b4a4c2b3"
      },
      "outputs": [
        {
          "output_type": "stream",
          "name": "stdout",
          "text": [
            "Requirement already satisfied: geemap in /usr/local/lib/python3.10/dist-packages (0.30.0)\n",
            "Requirement already satisfied: bqplot in /usr/local/lib/python3.10/dist-packages (from geemap) (0.12.42)\n",
            "Requirement already satisfied: colour in /usr/local/lib/python3.10/dist-packages (from geemap) (0.1.5)\n",
            "Requirement already satisfied: earthengine-api>=0.1.347 in /usr/local/lib/python3.10/dist-packages (from geemap) (0.1.384)\n",
            "Requirement already satisfied: eerepr>=0.0.4 in /usr/local/lib/python3.10/dist-packages (from geemap) (0.0.4)\n",
            "Requirement already satisfied: folium>=0.13.0 in /usr/local/lib/python3.10/dist-packages (from geemap) (0.14.0)\n",
            "Requirement already satisfied: geocoder in /usr/local/lib/python3.10/dist-packages (from geemap) (1.38.1)\n",
            "Requirement already satisfied: ipyevents in /usr/local/lib/python3.10/dist-packages (from geemap) (2.0.2)\n",
            "Requirement already satisfied: ipyfilechooser>=0.6.0 in /usr/local/lib/python3.10/dist-packages (from geemap) (0.6.0)\n",
            "Requirement already satisfied: ipyleaflet>=0.17.0 in /usr/local/lib/python3.10/dist-packages (from geemap) (0.18.1)\n",
            "Requirement already satisfied: ipytree in /usr/local/lib/python3.10/dist-packages (from geemap) (0.2.2)\n",
            "Requirement already satisfied: matplotlib in /usr/local/lib/python3.10/dist-packages (from geemap) (3.7.1)\n",
            "Requirement already satisfied: numpy in /usr/local/lib/python3.10/dist-packages (from geemap) (1.23.5)\n",
            "Requirement already satisfied: pandas in /usr/local/lib/python3.10/dist-packages (from geemap) (1.5.3)\n",
            "Requirement already satisfied: plotly in /usr/local/lib/python3.10/dist-packages (from geemap) (5.15.0)\n",
            "Requirement already satisfied: pyperclip in /usr/local/lib/python3.10/dist-packages (from geemap) (1.8.2)\n",
            "Requirement already satisfied: pyshp>=2.1.3 in /usr/local/lib/python3.10/dist-packages (from geemap) (2.3.1)\n",
            "Requirement already satisfied: python-box in /usr/local/lib/python3.10/dist-packages (from geemap) (7.1.1)\n",
            "Requirement already satisfied: scooby in /usr/local/lib/python3.10/dist-packages (from geemap) (0.9.2)\n",
            "Requirement already satisfied: google-cloud-storage in /usr/local/lib/python3.10/dist-packages (from earthengine-api>=0.1.347->geemap) (2.8.0)\n",
            "Requirement already satisfied: google-api-python-client>=1.12.1 in /usr/local/lib/python3.10/dist-packages (from earthengine-api>=0.1.347->geemap) (2.84.0)\n",
            "Requirement already satisfied: google-auth>=1.4.1 in /usr/local/lib/python3.10/dist-packages (from earthengine-api>=0.1.347->geemap) (2.17.3)\n",
            "Requirement already satisfied: google-auth-httplib2>=0.0.3 in /usr/local/lib/python3.10/dist-packages (from earthengine-api>=0.1.347->geemap) (0.1.1)\n",
            "Requirement already satisfied: httplib2<1dev,>=0.9.2 in /usr/local/lib/python3.10/dist-packages (from earthengine-api>=0.1.347->geemap) (0.22.0)\n",
            "Requirement already satisfied: requests in /usr/local/lib/python3.10/dist-packages (from earthengine-api>=0.1.347->geemap) (2.31.0)\n",
            "Requirement already satisfied: branca>=0.6.0 in /usr/local/lib/python3.10/dist-packages (from folium>=0.13.0->geemap) (0.7.0)\n",
            "Requirement already satisfied: jinja2>=2.9 in /usr/local/lib/python3.10/dist-packages (from folium>=0.13.0->geemap) (3.1.2)\n",
            "Requirement already satisfied: ipywidgets in /usr/local/lib/python3.10/dist-packages (from ipyfilechooser>=0.6.0->geemap) (7.7.1)\n",
            "Requirement already satisfied: traittypes<3,>=0.2.1 in /usr/local/lib/python3.10/dist-packages (from ipyleaflet>=0.17.0->geemap) (0.2.1)\n",
            "Requirement already satisfied: xyzservices>=2021.8.1 in /usr/local/lib/python3.10/dist-packages (from ipyleaflet>=0.17.0->geemap) (2023.10.1)\n",
            "Requirement already satisfied: traitlets>=4.3.0 in /usr/local/lib/python3.10/dist-packages (from bqplot->geemap) (5.7.1)\n",
            "Requirement already satisfied: python-dateutil>=2.8.1 in /usr/local/lib/python3.10/dist-packages (from pandas->geemap) (2.8.2)\n",
            "Requirement already satisfied: pytz>=2020.1 in /usr/local/lib/python3.10/dist-packages (from pandas->geemap) (2023.3.post1)\n",
            "Requirement already satisfied: click in /usr/local/lib/python3.10/dist-packages (from geocoder->geemap) (8.1.7)\n",
            "Requirement already satisfied: future in /usr/local/lib/python3.10/dist-packages (from geocoder->geemap) (0.18.3)\n",
            "Requirement already satisfied: ratelim in /usr/local/lib/python3.10/dist-packages (from geocoder->geemap) (0.1.6)\n",
            "Requirement already satisfied: six in /usr/local/lib/python3.10/dist-packages (from geocoder->geemap) (1.16.0)\n",
            "Requirement already satisfied: contourpy>=1.0.1 in /usr/local/lib/python3.10/dist-packages (from matplotlib->geemap) (1.2.0)\n",
            "Requirement already satisfied: cycler>=0.10 in /usr/local/lib/python3.10/dist-packages (from matplotlib->geemap) (0.12.1)\n",
            "Requirement already satisfied: fonttools>=4.22.0 in /usr/local/lib/python3.10/dist-packages (from matplotlib->geemap) (4.47.0)\n",
            "Requirement already satisfied: kiwisolver>=1.0.1 in /usr/local/lib/python3.10/dist-packages (from matplotlib->geemap) (1.4.5)\n",
            "Requirement already satisfied: packaging>=20.0 in /usr/local/lib/python3.10/dist-packages (from matplotlib->geemap) (23.2)\n",
            "Requirement already satisfied: pillow>=6.2.0 in /usr/local/lib/python3.10/dist-packages (from matplotlib->geemap) (9.4.0)\n",
            "Requirement already satisfied: pyparsing>=2.3.1 in /usr/local/lib/python3.10/dist-packages (from matplotlib->geemap) (3.1.1)\n",
            "Requirement already satisfied: tenacity>=6.2.0 in /usr/local/lib/python3.10/dist-packages (from plotly->geemap) (8.2.3)\n",
            "Requirement already satisfied: google-api-core!=2.0.*,!=2.1.*,!=2.2.*,!=2.3.0,<3.0.0dev,>=1.31.5 in /usr/local/lib/python3.10/dist-packages (from google-api-python-client>=1.12.1->earthengine-api>=0.1.347->geemap) (2.11.1)\n",
            "Requirement already satisfied: uritemplate<5,>=3.0.1 in /usr/local/lib/python3.10/dist-packages (from google-api-python-client>=1.12.1->earthengine-api>=0.1.347->geemap) (4.1.1)\n",
            "Requirement already satisfied: cachetools<6.0,>=2.0.0 in /usr/local/lib/python3.10/dist-packages (from google-auth>=1.4.1->earthengine-api>=0.1.347->geemap) (5.3.2)\n",
            "Requirement already satisfied: pyasn1-modules>=0.2.1 in /usr/local/lib/python3.10/dist-packages (from google-auth>=1.4.1->earthengine-api>=0.1.347->geemap) (0.3.0)\n",
            "Requirement already satisfied: rsa<5,>=3.1.4 in /usr/local/lib/python3.10/dist-packages (from google-auth>=1.4.1->earthengine-api>=0.1.347->geemap) (4.9)\n",
            "Requirement already satisfied: ipykernel>=4.5.1 in /usr/local/lib/python3.10/dist-packages (from ipywidgets->ipyfilechooser>=0.6.0->geemap) (5.5.6)\n",
            "Requirement already satisfied: ipython-genutils~=0.2.0 in /usr/local/lib/python3.10/dist-packages (from ipywidgets->ipyfilechooser>=0.6.0->geemap) (0.2.0)\n",
            "Requirement already satisfied: widgetsnbextension~=3.6.0 in /usr/local/lib/python3.10/dist-packages (from ipywidgets->ipyfilechooser>=0.6.0->geemap) (3.6.6)\n",
            "Requirement already satisfied: ipython>=4.0.0 in /usr/local/lib/python3.10/dist-packages (from ipywidgets->ipyfilechooser>=0.6.0->geemap) (7.34.0)\n",
            "Requirement already satisfied: jupyterlab-widgets>=1.0.0 in /usr/local/lib/python3.10/dist-packages (from ipywidgets->ipyfilechooser>=0.6.0->geemap) (3.0.9)\n",
            "Requirement already satisfied: MarkupSafe>=2.0 in /usr/local/lib/python3.10/dist-packages (from jinja2>=2.9->folium>=0.13.0->geemap) (2.1.3)\n",
            "Requirement already satisfied: google-cloud-core<3.0dev,>=2.3.0 in /usr/local/lib/python3.10/dist-packages (from google-cloud-storage->earthengine-api>=0.1.347->geemap) (2.3.3)\n",
            "Requirement already satisfied: google-resumable-media>=2.3.2 in /usr/local/lib/python3.10/dist-packages (from google-cloud-storage->earthengine-api>=0.1.347->geemap) (2.7.0)\n",
            "Requirement already satisfied: charset-normalizer<4,>=2 in /usr/local/lib/python3.10/dist-packages (from requests->earthengine-api>=0.1.347->geemap) (3.3.2)\n",
            "Requirement already satisfied: idna<4,>=2.5 in /usr/local/lib/python3.10/dist-packages (from requests->earthengine-api>=0.1.347->geemap) (3.6)\n",
            "Requirement already satisfied: urllib3<3,>=1.21.1 in /usr/local/lib/python3.10/dist-packages (from requests->earthengine-api>=0.1.347->geemap) (2.0.7)\n",
            "Requirement already satisfied: certifi>=2017.4.17 in /usr/local/lib/python3.10/dist-packages (from requests->earthengine-api>=0.1.347->geemap) (2023.11.17)\n",
            "Requirement already satisfied: decorator in /usr/local/lib/python3.10/dist-packages (from ratelim->geocoder->geemap) (4.4.2)\n",
            "Requirement already satisfied: googleapis-common-protos<2.0.dev0,>=1.56.2 in /usr/local/lib/python3.10/dist-packages (from google-api-core!=2.0.*,!=2.1.*,!=2.2.*,!=2.3.0,<3.0.0dev,>=1.31.5->google-api-python-client>=1.12.1->earthengine-api>=0.1.347->geemap) (1.62.0)\n",
            "Requirement already satisfied: protobuf!=3.20.0,!=3.20.1,!=4.21.0,!=4.21.1,!=4.21.2,!=4.21.3,!=4.21.4,!=4.21.5,<5.0.0.dev0,>=3.19.5 in /usr/local/lib/python3.10/dist-packages (from google-api-core!=2.0.*,!=2.1.*,!=2.2.*,!=2.3.0,<3.0.0dev,>=1.31.5->google-api-python-client>=1.12.1->earthengine-api>=0.1.347->geemap) (3.20.3)\n",
            "Requirement already satisfied: google-crc32c<2.0dev,>=1.0 in /usr/local/lib/python3.10/dist-packages (from google-resumable-media>=2.3.2->google-cloud-storage->earthengine-api>=0.1.347->geemap) (1.5.0)\n",
            "Requirement already satisfied: jupyter-client in /usr/local/lib/python3.10/dist-packages (from ipykernel>=4.5.1->ipywidgets->ipyfilechooser>=0.6.0->geemap) (6.1.12)\n",
            "Requirement already satisfied: tornado>=4.2 in /usr/local/lib/python3.10/dist-packages (from ipykernel>=4.5.1->ipywidgets->ipyfilechooser>=0.6.0->geemap) (6.3.2)\n",
            "Requirement already satisfied: setuptools>=18.5 in /usr/local/lib/python3.10/dist-packages (from ipython>=4.0.0->ipywidgets->ipyfilechooser>=0.6.0->geemap) (67.7.2)\n",
            "Collecting jedi>=0.16 (from ipython>=4.0.0->ipywidgets->ipyfilechooser>=0.6.0->geemap)\n",
            "  Downloading jedi-0.19.1-py2.py3-none-any.whl (1.6 MB)\n",
            "\u001b[2K     \u001b[90m━━━━━━━━━━━━━━━━━━━━━━━━━━━━━━━━━━━━━━━━\u001b[0m \u001b[32m1.6/1.6 MB\u001b[0m \u001b[31m9.7 MB/s\u001b[0m eta \u001b[36m0:00:00\u001b[0m\n",
            "\u001b[?25hRequirement already satisfied: pickleshare in /usr/local/lib/python3.10/dist-packages (from ipython>=4.0.0->ipywidgets->ipyfilechooser>=0.6.0->geemap) (0.7.5)\n",
            "Requirement already satisfied: prompt-toolkit!=3.0.0,!=3.0.1,<3.1.0,>=2.0.0 in /usr/local/lib/python3.10/dist-packages (from ipython>=4.0.0->ipywidgets->ipyfilechooser>=0.6.0->geemap) (3.0.43)\n",
            "Requirement already satisfied: pygments in /usr/local/lib/python3.10/dist-packages (from ipython>=4.0.0->ipywidgets->ipyfilechooser>=0.6.0->geemap) (2.16.1)\n",
            "Requirement already satisfied: backcall in /usr/local/lib/python3.10/dist-packages (from ipython>=4.0.0->ipywidgets->ipyfilechooser>=0.6.0->geemap) (0.2.0)\n",
            "Requirement already satisfied: matplotlib-inline in /usr/local/lib/python3.10/dist-packages (from ipython>=4.0.0->ipywidgets->ipyfilechooser>=0.6.0->geemap) (0.1.6)\n",
            "Requirement already satisfied: pexpect>4.3 in /usr/local/lib/python3.10/dist-packages (from ipython>=4.0.0->ipywidgets->ipyfilechooser>=0.6.0->geemap) (4.9.0)\n",
            "Requirement already satisfied: pyasn1<0.6.0,>=0.4.6 in /usr/local/lib/python3.10/dist-packages (from pyasn1-modules>=0.2.1->google-auth>=1.4.1->earthengine-api>=0.1.347->geemap) (0.5.1)\n",
            "Requirement already satisfied: notebook>=4.4.1 in /usr/local/lib/python3.10/dist-packages (from widgetsnbextension~=3.6.0->ipywidgets->ipyfilechooser>=0.6.0->geemap) (6.5.5)\n",
            "Requirement already satisfied: parso<0.9.0,>=0.8.3 in /usr/local/lib/python3.10/dist-packages (from jedi>=0.16->ipython>=4.0.0->ipywidgets->ipyfilechooser>=0.6.0->geemap) (0.8.3)\n",
            "Requirement already satisfied: pyzmq<25,>=17 in /usr/local/lib/python3.10/dist-packages (from notebook>=4.4.1->widgetsnbextension~=3.6.0->ipywidgets->ipyfilechooser>=0.6.0->geemap) (23.2.1)\n",
            "Requirement already satisfied: argon2-cffi in /usr/local/lib/python3.10/dist-packages (from notebook>=4.4.1->widgetsnbextension~=3.6.0->ipywidgets->ipyfilechooser>=0.6.0->geemap) (23.1.0)\n",
            "Requirement already satisfied: jupyter-core>=4.6.1 in /usr/local/lib/python3.10/dist-packages (from notebook>=4.4.1->widgetsnbextension~=3.6.0->ipywidgets->ipyfilechooser>=0.6.0->geemap) (5.7.0)\n",
            "Requirement already satisfied: nbformat in /usr/local/lib/python3.10/dist-packages (from notebook>=4.4.1->widgetsnbextension~=3.6.0->ipywidgets->ipyfilechooser>=0.6.0->geemap) (5.9.2)\n",
            "Requirement already satisfied: nbconvert>=5 in /usr/local/lib/python3.10/dist-packages (from notebook>=4.4.1->widgetsnbextension~=3.6.0->ipywidgets->ipyfilechooser>=0.6.0->geemap) (6.5.4)\n",
            "Requirement already satisfied: nest-asyncio>=1.5 in /usr/local/lib/python3.10/dist-packages (from notebook>=4.4.1->widgetsnbextension~=3.6.0->ipywidgets->ipyfilechooser>=0.6.0->geemap) (1.5.8)\n",
            "Requirement already satisfied: Send2Trash>=1.8.0 in /usr/local/lib/python3.10/dist-packages (from notebook>=4.4.1->widgetsnbextension~=3.6.0->ipywidgets->ipyfilechooser>=0.6.0->geemap) (1.8.2)\n",
            "Requirement already satisfied: terminado>=0.8.3 in /usr/local/lib/python3.10/dist-packages (from notebook>=4.4.1->widgetsnbextension~=3.6.0->ipywidgets->ipyfilechooser>=0.6.0->geemap) (0.18.0)\n",
            "Requirement already satisfied: prometheus-client in /usr/local/lib/python3.10/dist-packages (from notebook>=4.4.1->widgetsnbextension~=3.6.0->ipywidgets->ipyfilechooser>=0.6.0->geemap) (0.19.0)\n",
            "Requirement already satisfied: nbclassic>=0.4.7 in /usr/local/lib/python3.10/dist-packages (from notebook>=4.4.1->widgetsnbextension~=3.6.0->ipywidgets->ipyfilechooser>=0.6.0->geemap) (1.0.0)\n",
            "Requirement already satisfied: ptyprocess>=0.5 in /usr/local/lib/python3.10/dist-packages (from pexpect>4.3->ipython>=4.0.0->ipywidgets->ipyfilechooser>=0.6.0->geemap) (0.7.0)\n",
            "Requirement already satisfied: wcwidth in /usr/local/lib/python3.10/dist-packages (from prompt-toolkit!=3.0.0,!=3.0.1,<3.1.0,>=2.0.0->ipython>=4.0.0->ipywidgets->ipyfilechooser>=0.6.0->geemap) (0.2.12)\n",
            "Requirement already satisfied: platformdirs>=2.5 in /usr/local/lib/python3.10/dist-packages (from jupyter-core>=4.6.1->notebook>=4.4.1->widgetsnbextension~=3.6.0->ipywidgets->ipyfilechooser>=0.6.0->geemap) (4.1.0)\n",
            "Requirement already satisfied: jupyter-server>=1.8 in /usr/local/lib/python3.10/dist-packages (from nbclassic>=0.4.7->notebook>=4.4.1->widgetsnbextension~=3.6.0->ipywidgets->ipyfilechooser>=0.6.0->geemap) (1.24.0)\n",
            "Requirement already satisfied: notebook-shim>=0.2.3 in /usr/local/lib/python3.10/dist-packages (from nbclassic>=0.4.7->notebook>=4.4.1->widgetsnbextension~=3.6.0->ipywidgets->ipyfilechooser>=0.6.0->geemap) (0.2.3)\n",
            "Requirement already satisfied: lxml in /usr/local/lib/python3.10/dist-packages (from nbconvert>=5->notebook>=4.4.1->widgetsnbextension~=3.6.0->ipywidgets->ipyfilechooser>=0.6.0->geemap) (4.9.4)\n",
            "Requirement already satisfied: beautifulsoup4 in /usr/local/lib/python3.10/dist-packages (from nbconvert>=5->notebook>=4.4.1->widgetsnbextension~=3.6.0->ipywidgets->ipyfilechooser>=0.6.0->geemap) (4.11.2)\n",
            "Requirement already satisfied: bleach in /usr/local/lib/python3.10/dist-packages (from nbconvert>=5->notebook>=4.4.1->widgetsnbextension~=3.6.0->ipywidgets->ipyfilechooser>=0.6.0->geemap) (6.1.0)\n",
            "Requirement already satisfied: defusedxml in /usr/local/lib/python3.10/dist-packages (from nbconvert>=5->notebook>=4.4.1->widgetsnbextension~=3.6.0->ipywidgets->ipyfilechooser>=0.6.0->geemap) (0.7.1)\n",
            "Requirement already satisfied: entrypoints>=0.2.2 in /usr/local/lib/python3.10/dist-packages (from nbconvert>=5->notebook>=4.4.1->widgetsnbextension~=3.6.0->ipywidgets->ipyfilechooser>=0.6.0->geemap) (0.4)\n",
            "Requirement already satisfied: jupyterlab-pygments in /usr/local/lib/python3.10/dist-packages (from nbconvert>=5->notebook>=4.4.1->widgetsnbextension~=3.6.0->ipywidgets->ipyfilechooser>=0.6.0->geemap) (0.3.0)\n",
            "Requirement already satisfied: mistune<2,>=0.8.1 in /usr/local/lib/python3.10/dist-packages (from nbconvert>=5->notebook>=4.4.1->widgetsnbextension~=3.6.0->ipywidgets->ipyfilechooser>=0.6.0->geemap) (0.8.4)\n",
            "Requirement already satisfied: nbclient>=0.5.0 in /usr/local/lib/python3.10/dist-packages (from nbconvert>=5->notebook>=4.4.1->widgetsnbextension~=3.6.0->ipywidgets->ipyfilechooser>=0.6.0->geemap) (0.9.0)\n",
            "Requirement already satisfied: pandocfilters>=1.4.1 in /usr/local/lib/python3.10/dist-packages (from nbconvert>=5->notebook>=4.4.1->widgetsnbextension~=3.6.0->ipywidgets->ipyfilechooser>=0.6.0->geemap) (1.5.0)\n",
            "Requirement already satisfied: tinycss2 in /usr/local/lib/python3.10/dist-packages (from nbconvert>=5->notebook>=4.4.1->widgetsnbextension~=3.6.0->ipywidgets->ipyfilechooser>=0.6.0->geemap) (1.2.1)\n",
            "Requirement already satisfied: fastjsonschema in /usr/local/lib/python3.10/dist-packages (from nbformat->notebook>=4.4.1->widgetsnbextension~=3.6.0->ipywidgets->ipyfilechooser>=0.6.0->geemap) (2.19.1)\n",
            "Requirement already satisfied: jsonschema>=2.6 in /usr/local/lib/python3.10/dist-packages (from nbformat->notebook>=4.4.1->widgetsnbextension~=3.6.0->ipywidgets->ipyfilechooser>=0.6.0->geemap) (4.19.2)\n",
            "Requirement already satisfied: argon2-cffi-bindings in /usr/local/lib/python3.10/dist-packages (from argon2-cffi->notebook>=4.4.1->widgetsnbextension~=3.6.0->ipywidgets->ipyfilechooser>=0.6.0->geemap) (21.2.0)\n",
            "Requirement already satisfied: attrs>=22.2.0 in /usr/local/lib/python3.10/dist-packages (from jsonschema>=2.6->nbformat->notebook>=4.4.1->widgetsnbextension~=3.6.0->ipywidgets->ipyfilechooser>=0.6.0->geemap) (23.2.0)\n",
            "Requirement already satisfied: jsonschema-specifications>=2023.03.6 in /usr/local/lib/python3.10/dist-packages (from jsonschema>=2.6->nbformat->notebook>=4.4.1->widgetsnbextension~=3.6.0->ipywidgets->ipyfilechooser>=0.6.0->geemap) (2023.12.1)\n",
            "Requirement already satisfied: referencing>=0.28.4 in /usr/local/lib/python3.10/dist-packages (from jsonschema>=2.6->nbformat->notebook>=4.4.1->widgetsnbextension~=3.6.0->ipywidgets->ipyfilechooser>=0.6.0->geemap) (0.32.1)\n",
            "Requirement already satisfied: rpds-py>=0.7.1 in /usr/local/lib/python3.10/dist-packages (from jsonschema>=2.6->nbformat->notebook>=4.4.1->widgetsnbextension~=3.6.0->ipywidgets->ipyfilechooser>=0.6.0->geemap) (0.16.2)\n",
            "Requirement already satisfied: anyio<4,>=3.1.0 in /usr/local/lib/python3.10/dist-packages (from jupyter-server>=1.8->nbclassic>=0.4.7->notebook>=4.4.1->widgetsnbextension~=3.6.0->ipywidgets->ipyfilechooser>=0.6.0->geemap) (3.7.1)\n",
            "Requirement already satisfied: websocket-client in /usr/local/lib/python3.10/dist-packages (from jupyter-server>=1.8->nbclassic>=0.4.7->notebook>=4.4.1->widgetsnbextension~=3.6.0->ipywidgets->ipyfilechooser>=0.6.0->geemap) (1.7.0)\n",
            "Requirement already satisfied: cffi>=1.0.1 in /usr/local/lib/python3.10/dist-packages (from argon2-cffi-bindings->argon2-cffi->notebook>=4.4.1->widgetsnbextension~=3.6.0->ipywidgets->ipyfilechooser>=0.6.0->geemap) (1.16.0)\n",
            "Requirement already satisfied: soupsieve>1.2 in /usr/local/lib/python3.10/dist-packages (from beautifulsoup4->nbconvert>=5->notebook>=4.4.1->widgetsnbextension~=3.6.0->ipywidgets->ipyfilechooser>=0.6.0->geemap) (2.5)\n",
            "Requirement already satisfied: webencodings in /usr/local/lib/python3.10/dist-packages (from bleach->nbconvert>=5->notebook>=4.4.1->widgetsnbextension~=3.6.0->ipywidgets->ipyfilechooser>=0.6.0->geemap) (0.5.1)\n",
            "Requirement already satisfied: sniffio>=1.1 in /usr/local/lib/python3.10/dist-packages (from anyio<4,>=3.1.0->jupyter-server>=1.8->nbclassic>=0.4.7->notebook>=4.4.1->widgetsnbextension~=3.6.0->ipywidgets->ipyfilechooser>=0.6.0->geemap) (1.3.0)\n",
            "Requirement already satisfied: exceptiongroup in /usr/local/lib/python3.10/dist-packages (from anyio<4,>=3.1.0->jupyter-server>=1.8->nbclassic>=0.4.7->notebook>=4.4.1->widgetsnbextension~=3.6.0->ipywidgets->ipyfilechooser>=0.6.0->geemap) (1.2.0)\n",
            "Requirement already satisfied: pycparser in /usr/local/lib/python3.10/dist-packages (from cffi>=1.0.1->argon2-cffi-bindings->argon2-cffi->notebook>=4.4.1->widgetsnbextension~=3.6.0->ipywidgets->ipyfilechooser>=0.6.0->geemap) (2.21)\n",
            "Installing collected packages: jedi\n",
            "Successfully installed jedi-0.19.1\n"
          ]
        }
      ],
      "source": [
        "!pip install geemap\n",
        "import geemap\n",
        "import ee"
      ]
    },
    {
      "cell_type": "markdown",
      "source": [
        "#Autentifikasi dan Inisialisasi Earth Engine"
      ],
      "metadata": {
        "id": "pv7CZxXH9MYh"
      }
    },
    {
      "cell_type": "code",
      "source": [
        "ee.Authenticate()\n",
        "ee.Initialize(project='ee-21110031')"
      ],
      "metadata": {
        "colab": {
          "base_uri": "https://localhost:8080/",
          "height": 17
        },
        "id": "1zu-VnzU9Pbw",
        "outputId": "47f335ee-586a-41ca-fb4f-0365a091638a"
      },
      "execution_count": null,
      "outputs": [
        {
          "output_type": "display_data",
          "data": {
            "text/plain": [
              "<IPython.core.display.HTML object>"
            ],
            "text/html": [
              "\n",
              "            <style>\n",
              "                .geemap-dark {\n",
              "                    --jp-widgets-color: white;\n",
              "                    --jp-widgets-label-color: white;\n",
              "                    --jp-ui-font-color1: white;\n",
              "                    --jp-layout-color2: #454545;\n",
              "                    background-color: #383838;\n",
              "                }\n",
              "                    \n",
              "                .geemap-dark .jupyter-button {\n",
              "                    --jp-layout-color3: #383838;\n",
              "                }\n",
              "                \n",
              "                .geemap-colab {\n",
              "                    background-color: var(--colab-primary-surface-color, white);\n",
              "                }\n",
              "                    \n",
              "                .geemap-colab .jupyter-button {\n",
              "                    --jp-layout-color3: var(--colab-primary-surface-color, white);\n",
              "                }\n",
              "            </style>\n",
              "            "
            ]
          },
          "metadata": {}
        }
      ]
    },
    {
      "cell_type": "markdown",
      "source": [
        "#Membuat Layer Wilayah Kota Semarang dengan Menggunakan Fungsi clip"
      ],
      "metadata": {
        "id": "Jf7F6Dqn9VBu"
      }
    },
    {
      "cell_type": "code",
      "source": [
        "#Inisialisasi Peta Yogyakarta\n",
        "Map = geemap.Map()\n",
        "\n",
        "region = ee.Geometry.Polygon([[\n",
        "            [110.48413146939315, -6.953784103051093],\n",
        "            [110.48539315653055, -7.005353724479435],\n",
        "            [110.47447148510594, -7.03516115656724],\n",
        "            [110.48050406776244, -7.050804773395819],\n",
        "            [110.44391937294236, -7.025118062933525],\n",
        "            [110.44743140270899, -7.066028739486991],\n",
        "            [110.41218862694069, -7.107288279491514],\n",
        "            [110.40644175985356, -7.072944657708052],\n",
        "            [110.41476024597767, -7.043682028243631],\n",
        "            [110.40595008464912, -7.027566961553066],\n",
        "            [110.40030093357797, -7.01192164038355],\n",
        "            [110.39900989783783, -7.022553191025694],\n",
        "            [110.37651578480194, -7.0192263839059414],\n",
        "            [110.35460013919459, -6.981494124745987],\n",
        "            [110.39770541257714, -6.948493681619823],\n",
        "            [110.42029340084213, -6.95637176188741],\n",
        "            [110.46499735412453, -6.945656074833107],\n",
        "            [110.48435060436152, -6.9538421296425525]\n",
        "]])\n",
        "\n",
        "#Muat dataset kependudukan dengan menggunakan fungsi clip\n",
        "dataset = (\n",
        "    ee.ImageCollection('WorldPop/GP/100m/pop')\n",
        "    .filter(ee.Filter.date('2020-01-01', '2021-12-30'))\n",
        "    .select('population')\n",
        "    .mean()\n",
        "    .clip(region)\n",
        ")"
      ],
      "metadata": {
        "colab": {
          "base_uri": "https://localhost:8080/",
          "height": 17
        },
        "id": "R89tmmny9PYU",
        "outputId": "a549a2b8-8048-4abf-a60a-0da37b101758"
      },
      "execution_count": null,
      "outputs": [
        {
          "output_type": "display_data",
          "data": {
            "text/plain": [
              "<IPython.core.display.HTML object>"
            ],
            "text/html": [
              "\n",
              "            <style>\n",
              "                .geemap-dark {\n",
              "                    --jp-widgets-color: white;\n",
              "                    --jp-widgets-label-color: white;\n",
              "                    --jp-ui-font-color1: white;\n",
              "                    --jp-layout-color2: #454545;\n",
              "                    background-color: #383838;\n",
              "                }\n",
              "                    \n",
              "                .geemap-dark .jupyter-button {\n",
              "                    --jp-layout-color3: #383838;\n",
              "                }\n",
              "                \n",
              "                .geemap-colab {\n",
              "                    background-color: var(--colab-primary-surface-color, white);\n",
              "                }\n",
              "                    \n",
              "                .geemap-colab .jupyter-button {\n",
              "                    --jp-layout-color3: var(--colab-primary-surface-color, white);\n",
              "                }\n",
              "            </style>\n",
              "            "
            ]
          },
          "metadata": {}
        }
      ]
    },
    {
      "cell_type": "code",
      "source": [
        "#Tambahkan layer dari dataset kependudukan\n",
        "Map.addLayer(\n",
        "    dataset,\n",
        "    {'min': 0, 'max': 1000, 'palette' : ['0000FF', '00FF00', 'FF0000'], 'opacity': 0.3},\n",
        "    'Kepadatan Penduduk'\n",
        ")"
      ],
      "metadata": {
        "colab": {
          "base_uri": "https://localhost:8080/",
          "height": 17
        },
        "id": "inAnzNg19PXU",
        "outputId": "edb7fa8d-d116-4b78-9363-055411470932"
      },
      "execution_count": null,
      "outputs": [
        {
          "output_type": "display_data",
          "data": {
            "text/plain": [
              "<IPython.core.display.HTML object>"
            ],
            "text/html": [
              "\n",
              "            <style>\n",
              "                .geemap-dark {\n",
              "                    --jp-widgets-color: white;\n",
              "                    --jp-widgets-label-color: white;\n",
              "                    --jp-ui-font-color1: white;\n",
              "                    --jp-layout-color2: #454545;\n",
              "                    background-color: #383838;\n",
              "                }\n",
              "                    \n",
              "                .geemap-dark .jupyter-button {\n",
              "                    --jp-layout-color3: #383838;\n",
              "                }\n",
              "                \n",
              "                .geemap-colab {\n",
              "                    background-color: var(--colab-primary-surface-color, white);\n",
              "                }\n",
              "                    \n",
              "                .geemap-colab .jupyter-button {\n",
              "                    --jp-layout-color3: var(--colab-primary-surface-color, white);\n",
              "                }\n",
              "            </style>\n",
              "            "
            ]
          },
          "metadata": {}
        }
      ]
    },
    {
      "cell_type": "code",
      "source": [
        "# Tampilkan peta\n",
        "Map.centerObject(region, 12)  # Center the map on the specified region\n",
        "Map.addLayerControl()        # Add layer control to the map\n",
        "Map"
      ],
      "metadata": {
        "colab": {
          "base_uri": "https://localhost:8080/",
          "height": 621,
          "referenced_widgets": [
            "6b9280476d634c02925ab4d52b138456",
            "cf35d19ce4a5471589f8b2b456177db8",
            "50d13a380ed340829765174fffb2e09b",
            "47a023f2d4fe4f3e99d0b337bbb8ccba",
            "8139f8a3777c4aae832c6c7b3499f2ad",
            "9f7a308038ba4ebeb39645fb63e2bfaf",
            "738be1e76b8e4ff584618f0ac7db2776",
            "b15fd9801a6648eb81f3f5ad955499d7",
            "532ffae600a74c45b08fc218c84e62aa",
            "5c3a7ceafdcf4eb5aaaa0fc43d086125",
            "da18f8ac7ede4cfea2477ffc1ac01437",
            "9ef933fa8a4e49909a21de00258d3a94",
            "255aca1d231d499ba744c9123d72e9bc",
            "367527c82f2a44c29eb1279b8e4e463c",
            "495545441c58425ebb7536c2b9858a40",
            "ad6eb798c7b946ee8a6528a9507f7029",
            "fdc4b22d21f4404ebe25b6629408dd1a",
            "b5a59d5d75a543668f0c157702defb5a",
            "5ffc8d5aaafe4fd5aef83771b532b27b",
            "d5b19cdfa80a464691f8e2b2d62af3ee",
            "a9addd98441d4ede8b408896d6c31abe",
            "5d67ab304b7c48ae85960791502717e3",
            "e7f16531e9df478cb6f5370c56ed4582",
            "243161136f7d411a946e056b6c1dbe43",
            "5549c68b41354d149b2f96c3f7013258",
            "2b6bb160dfa743dca0e5bf902d572af2",
            "5ca0ef7b6d3f4a2a87b0a4d1bf5c03b9",
            "0b0dd3c481f04bb4a4e46ba183614e07",
            "62bf57e5953d48b284b963a3e3c94d6e",
            "573b94cceabf4cdbbaeef6567c11c96f",
            "0c0cdc698c4740d6bfd5a71785decaff"
          ]
        },
        "id": "QwDfMC5sfa_s",
        "outputId": "f5f65b2a-25cd-44fd-eeee-6dcf0268d500"
      },
      "execution_count": null,
      "outputs": [
        {
          "output_type": "display_data",
          "data": {
            "text/plain": [
              "<IPython.core.display.HTML object>"
            ],
            "text/html": [
              "\n",
              "            <style>\n",
              "                .geemap-dark {\n",
              "                    --jp-widgets-color: white;\n",
              "                    --jp-widgets-label-color: white;\n",
              "                    --jp-ui-font-color1: white;\n",
              "                    --jp-layout-color2: #454545;\n",
              "                    background-color: #383838;\n",
              "                }\n",
              "                    \n",
              "                .geemap-dark .jupyter-button {\n",
              "                    --jp-layout-color3: #383838;\n",
              "                }\n",
              "                \n",
              "                .geemap-colab {\n",
              "                    background-color: var(--colab-primary-surface-color, white);\n",
              "                }\n",
              "                    \n",
              "                .geemap-colab .jupyter-button {\n",
              "                    --jp-layout-color3: var(--colab-primary-surface-color, white);\n",
              "                }\n",
              "            </style>\n",
              "            "
            ]
          },
          "metadata": {}
        },
        {
          "output_type": "display_data",
          "data": {
            "text/plain": [
              "Map(center=[-7.004127364406461, 110.42850727850573], controls=(WidgetControl(options=['position', 'transparent…"
            ],
            "application/vnd.jupyter.widget-view+json": {
              "version_major": 2,
              "version_minor": 0,
              "model_id": "6b9280476d634c02925ab4d52b138456"
            }
          },
          "metadata": {
            "application/vnd.jupyter.widget-view+json": {
              "colab": {
                "custom_widget_manager": {
                  "url": "https://ssl.gstatic.com/colaboratory-static/widgets/colab-cdn-widget-manager/b3e629b1971e1542/manager.min.js"
                }
              }
            }
          }
        }
      ]
    },
    {
      "cell_type": "markdown",
      "source": [
        "##Wilayah Bencana 1 (Genuk)"
      ],
      "metadata": {
        "id": "AdvtJxKr9YNZ"
      }
    },
    {
      "cell_type": "code",
      "source": [
        "#Tentukan area bencana ke-1\n",
        "region_bencana1 = ee.Geometry.Polygon([[\n",
        "            [110.48422477730783, -6.953851575194331],\n",
        "            [110.47977238813819, -6.963270379616864],\n",
        "            [110.47794236362205, -6.956862338851382],\n",
        "            [110.47679180909239, -6.961240305845132],\n",
        "            [110.47179634879105, -6.960566400310628],\n",
        "            [110.45148182838462, -6.9827471530224985],\n",
        "            [110.44546164695485, -6.956900698927839],\n",
        "            [110.4599282740007, -6.947895106478047],\n",
        "            [110.46492509849291, -6.9462568952064565],\n",
        "            [110.48422477730783, -6.953851575194331]\n",
        "]])\n",
        "\n",
        "#Muat dataset bencana 1\n",
        "dataset_bencana1 = (\n",
        "    ee.ImageCollection('WorldPop/GP/100m/pop')\n",
        "    .filter(ee.Filter.date('2020-01-01', '2021-12-30'))\n",
        "    .select('population')\n",
        "    .mean()\n",
        "    .clip(region_bencana1)\n",
        ")"
      ],
      "metadata": {
        "colab": {
          "base_uri": "https://localhost:8080/",
          "height": 17
        },
        "id": "-9dJXdkl9PUe",
        "outputId": "1d894526-9e91-4fde-9816-98e50c7543e2"
      },
      "execution_count": null,
      "outputs": [
        {
          "output_type": "display_data",
          "data": {
            "text/plain": [
              "<IPython.core.display.HTML object>"
            ],
            "text/html": [
              "\n",
              "            <style>\n",
              "                .geemap-dark {\n",
              "                    --jp-widgets-color: white;\n",
              "                    --jp-widgets-label-color: white;\n",
              "                    --jp-ui-font-color1: white;\n",
              "                    --jp-layout-color2: #454545;\n",
              "                    background-color: #383838;\n",
              "                }\n",
              "                    \n",
              "                .geemap-dark .jupyter-button {\n",
              "                    --jp-layout-color3: #383838;\n",
              "                }\n",
              "                \n",
              "                .geemap-colab {\n",
              "                    background-color: var(--colab-primary-surface-color, white);\n",
              "                }\n",
              "                    \n",
              "                .geemap-colab .jupyter-button {\n",
              "                    --jp-layout-color3: var(--colab-primary-surface-color, white);\n",
              "                }\n",
              "            </style>\n",
              "            "
            ]
          },
          "metadata": {}
        }
      ]
    },
    {
      "cell_type": "code",
      "source": [
        "#Tambahkan layer dari dataset bencana ke-1\n",
        "Map.addLayer(\n",
        "    dataset_bencana1,\n",
        "    {'min': 0, 'max': 1000, 'palette' : ['FF0000', 'FFFF00', '00FF00'], 'opacity': 0.4},\n",
        "    'Bencana ke-1'\n",
        ")"
      ],
      "metadata": {
        "colab": {
          "base_uri": "https://localhost:8080/",
          "height": 17
        },
        "id": "SPopOVIe9PRy",
        "outputId": "a8a81159-7020-4436-86ac-786e49a1ea83"
      },
      "execution_count": null,
      "outputs": [
        {
          "output_type": "display_data",
          "data": {
            "text/plain": [
              "<IPython.core.display.HTML object>"
            ],
            "text/html": [
              "\n",
              "            <style>\n",
              "                .geemap-dark {\n",
              "                    --jp-widgets-color: white;\n",
              "                    --jp-widgets-label-color: white;\n",
              "                    --jp-ui-font-color1: white;\n",
              "                    --jp-layout-color2: #454545;\n",
              "                    background-color: #383838;\n",
              "                }\n",
              "                    \n",
              "                .geemap-dark .jupyter-button {\n",
              "                    --jp-layout-color3: #383838;\n",
              "                }\n",
              "                \n",
              "                .geemap-colab {\n",
              "                    background-color: var(--colab-primary-surface-color, white);\n",
              "                }\n",
              "                    \n",
              "                .geemap-colab .jupyter-button {\n",
              "                    --jp-layout-color3: var(--colab-primary-surface-color, white);\n",
              "                }\n",
              "            </style>\n",
              "            "
            ]
          },
          "metadata": {}
        }
      ]
    },
    {
      "cell_type": "code",
      "source": [
        "# Tampilkan peta\n",
        "Map.centerObject(region_bencana1, 12)  # Center the map on the specified disaster region\n",
        "Map.addLayerControl()                  # Add layer control to the map\n",
        "Map"
      ],
      "metadata": {
        "colab": {
          "base_uri": "https://localhost:8080/",
          "height": 621,
          "referenced_widgets": [
            "6b9280476d634c02925ab4d52b138456",
            "cf35d19ce4a5471589f8b2b456177db8",
            "50d13a380ed340829765174fffb2e09b",
            "47a023f2d4fe4f3e99d0b337bbb8ccba",
            "8139f8a3777c4aae832c6c7b3499f2ad",
            "9f7a308038ba4ebeb39645fb63e2bfaf",
            "738be1e76b8e4ff584618f0ac7db2776",
            "b15fd9801a6648eb81f3f5ad955499d7",
            "532ffae600a74c45b08fc218c84e62aa",
            "5c3a7ceafdcf4eb5aaaa0fc43d086125",
            "0b0dd3c481f04bb4a4e46ba183614e07",
            "da18f8ac7ede4cfea2477ffc1ac01437",
            "9ef933fa8a4e49909a21de00258d3a94",
            "255aca1d231d499ba744c9123d72e9bc",
            "367527c82f2a44c29eb1279b8e4e463c",
            "5ca0ef7b6d3f4a2a87b0a4d1bf5c03b9",
            "495545441c58425ebb7536c2b9858a40",
            "fdc4b22d21f4404ebe25b6629408dd1a",
            "b5a59d5d75a543668f0c157702defb5a",
            "5ffc8d5aaafe4fd5aef83771b532b27b",
            "d5b19cdfa80a464691f8e2b2d62af3ee",
            "a9addd98441d4ede8b408896d6c31abe",
            "5d67ab304b7c48ae85960791502717e3",
            "e7f16531e9df478cb6f5370c56ed4582",
            "243161136f7d411a946e056b6c1dbe43",
            "5549c68b41354d149b2f96c3f7013258",
            "2b6bb160dfa743dca0e5bf902d572af2",
            "62bf57e5953d48b284b963a3e3c94d6e",
            "573b94cceabf4cdbbaeef6567c11c96f",
            "0c0cdc698c4740d6bfd5a71785decaff"
          ]
        },
        "id": "Z4eAGt3qgeRu",
        "outputId": "81f5e321-6873-406a-c3b4-c97e9752700d"
      },
      "execution_count": null,
      "outputs": [
        {
          "output_type": "display_data",
          "data": {
            "text/plain": [
              "<IPython.core.display.HTML object>"
            ],
            "text/html": [
              "\n",
              "            <style>\n",
              "                .geemap-dark {\n",
              "                    --jp-widgets-color: white;\n",
              "                    --jp-widgets-label-color: white;\n",
              "                    --jp-ui-font-color1: white;\n",
              "                    --jp-layout-color2: #454545;\n",
              "                    background-color: #383838;\n",
              "                }\n",
              "                    \n",
              "                .geemap-dark .jupyter-button {\n",
              "                    --jp-layout-color3: #383838;\n",
              "                }\n",
              "                \n",
              "                .geemap-colab {\n",
              "                    background-color: var(--colab-primary-surface-color, white);\n",
              "                }\n",
              "                    \n",
              "                .geemap-colab .jupyter-button {\n",
              "                    --jp-layout-color3: var(--colab-primary-surface-color, white);\n",
              "                }\n",
              "            </style>\n",
              "            "
            ]
          },
          "metadata": {}
        },
        {
          "output_type": "display_data",
          "data": {
            "text/plain": [
              "Map(bottom=545040.0, center=[-6.960601612017613, 110.46150310583077], controls=(WidgetControl(options=['positi…"
            ],
            "application/vnd.jupyter.widget-view+json": {
              "version_major": 2,
              "version_minor": 0,
              "model_id": "6b9280476d634c02925ab4d52b138456"
            }
          },
          "metadata": {
            "application/vnd.jupyter.widget-view+json": {
              "colab": {
                "custom_widget_manager": {
                  "url": "https://ssl.gstatic.com/colaboratory-static/widgets/colab-cdn-widget-manager/b3e629b1971e1542/manager.min.js"
                }
              }
            }
          }
        }
      ]
    },
    {
      "cell_type": "markdown",
      "source": [
        "##Wilayah Bencana 2 (Semarang Utara)"
      ],
      "metadata": {
        "id": "KydevPZt9hhG"
      }
    },
    {
      "cell_type": "code",
      "source": [
        "#Tentukan area bencana ke-2\n",
        "region_bencana2 = ee.Geometry.Polygon([[\n",
        "                      [110.43134312985319, -6.9544651745803625],\n",
        "                      [110.43103366755915, -6.9545675697267475],\n",
        "                      [110.4208214118554, -6.957537019260669],\n",
        "                      [110.4102362023253, -6.953988933095058],\n",
        "                      [110.40823661189727, -6.948935803537219],\n",
        "                      [110.41009338566158, -6.953850803233342],\n",
        "                      [110.39895274307568, -6.9549771500890625],\n",
        "                      [110.40163474962415, -6.977093958723025],\n",
        "                      [110.43123997575516, -6.966752432680108],\n",
        "                      [110.43134312985319, -6.9544651745803625]\n",
        "]])\n",
        "\n",
        "#Muat dataset bencana 1\n",
        "dataset_bencana2 = (\n",
        "    ee.ImageCollection('WorldPop/GP/100m/pop')\n",
        "    .filter(ee.Filter.date('2020-01-01', '2021-12-30'))\n",
        "    .select('population')\n",
        "    .mean()\n",
        "    .clip(region_bencana2)\n",
        ")"
      ],
      "metadata": {
        "colab": {
          "base_uri": "https://localhost:8080/",
          "height": 17
        },
        "id": "MsOvjejQ9PHH",
        "outputId": "5dc5500a-2088-4029-96fd-637a361161b9"
      },
      "execution_count": null,
      "outputs": [
        {
          "output_type": "display_data",
          "data": {
            "text/plain": [
              "<IPython.core.display.HTML object>"
            ],
            "text/html": [
              "\n",
              "            <style>\n",
              "                .geemap-dark {\n",
              "                    --jp-widgets-color: white;\n",
              "                    --jp-widgets-label-color: white;\n",
              "                    --jp-ui-font-color1: white;\n",
              "                    --jp-layout-color2: #454545;\n",
              "                    background-color: #383838;\n",
              "                }\n",
              "                    \n",
              "                .geemap-dark .jupyter-button {\n",
              "                    --jp-layout-color3: #383838;\n",
              "                }\n",
              "                \n",
              "                .geemap-colab {\n",
              "                    background-color: var(--colab-primary-surface-color, white);\n",
              "                }\n",
              "                    \n",
              "                .geemap-colab .jupyter-button {\n",
              "                    --jp-layout-color3: var(--colab-primary-surface-color, white);\n",
              "                }\n",
              "            </style>\n",
              "            "
            ]
          },
          "metadata": {}
        }
      ]
    },
    {
      "cell_type": "code",
      "source": [
        "#Tambahkan layer dari dataset kependudukan\n",
        "Map.addLayer(\n",
        "    dataset_bencana2,\n",
        "    {'min': 0, 'max': 1000, 'palette' : 0, 'palette' : ['FF0000', 'FFFF00', '00FF00'], 'opacity': 0.4},\n",
        "    'Bencana ke-2'\n",
        ")"
      ],
      "metadata": {
        "colab": {
          "base_uri": "https://localhost:8080/",
          "height": 17
        },
        "id": "fh2_7Fyw9kQD",
        "outputId": "a65e02e2-2a3b-44d2-922f-1c10b6fb76c6"
      },
      "execution_count": null,
      "outputs": [
        {
          "output_type": "display_data",
          "data": {
            "text/plain": [
              "<IPython.core.display.HTML object>"
            ],
            "text/html": [
              "\n",
              "            <style>\n",
              "                .geemap-dark {\n",
              "                    --jp-widgets-color: white;\n",
              "                    --jp-widgets-label-color: white;\n",
              "                    --jp-ui-font-color1: white;\n",
              "                    --jp-layout-color2: #454545;\n",
              "                    background-color: #383838;\n",
              "                }\n",
              "                    \n",
              "                .geemap-dark .jupyter-button {\n",
              "                    --jp-layout-color3: #383838;\n",
              "                }\n",
              "                \n",
              "                .geemap-colab {\n",
              "                    background-color: var(--colab-primary-surface-color, white);\n",
              "                }\n",
              "                    \n",
              "                .geemap-colab .jupyter-button {\n",
              "                    --jp-layout-color3: var(--colab-primary-surface-color, white);\n",
              "                }\n",
              "            </style>\n",
              "            "
            ]
          },
          "metadata": {}
        }
      ]
    },
    {
      "cell_type": "code",
      "source": [
        "# Tampilkan peta\n",
        "Map.centerObject(region_bencana2, 12)  # Center the map on the specified disaster region\n",
        "Map.addLayerControl()                  # Add layer control to the map\n",
        "Map"
      ],
      "metadata": {
        "colab": {
          "base_uri": "https://localhost:8080/",
          "height": 621,
          "referenced_widgets": [
            "6b9280476d634c02925ab4d52b138456",
            "cf35d19ce4a5471589f8b2b456177db8",
            "50d13a380ed340829765174fffb2e09b",
            "47a023f2d4fe4f3e99d0b337bbb8ccba",
            "8139f8a3777c4aae832c6c7b3499f2ad",
            "9f7a308038ba4ebeb39645fb63e2bfaf",
            "738be1e76b8e4ff584618f0ac7db2776",
            "b15fd9801a6648eb81f3f5ad955499d7",
            "532ffae600a74c45b08fc218c84e62aa",
            "5c3a7ceafdcf4eb5aaaa0fc43d086125",
            "0b0dd3c481f04bb4a4e46ba183614e07",
            "573b94cceabf4cdbbaeef6567c11c96f",
            "da18f8ac7ede4cfea2477ffc1ac01437",
            "9ef933fa8a4e49909a21de00258d3a94",
            "255aca1d231d499ba744c9123d72e9bc",
            "367527c82f2a44c29eb1279b8e4e463c",
            "5ca0ef7b6d3f4a2a87b0a4d1bf5c03b9",
            "62bf57e5953d48b284b963a3e3c94d6e",
            "495545441c58425ebb7536c2b9858a40",
            "fdc4b22d21f4404ebe25b6629408dd1a",
            "b5a59d5d75a543668f0c157702defb5a",
            "5ffc8d5aaafe4fd5aef83771b532b27b",
            "d5b19cdfa80a464691f8e2b2d62af3ee",
            "a9addd98441d4ede8b408896d6c31abe",
            "5d67ab304b7c48ae85960791502717e3",
            "e7f16531e9df478cb6f5370c56ed4582",
            "243161136f7d411a946e056b6c1dbe43",
            "5549c68b41354d149b2f96c3f7013258",
            "2b6bb160dfa743dca0e5bf902d572af2",
            "0c0cdc698c4740d6bfd5a71785decaff"
          ]
        },
        "id": "OYi-wno4gmFi",
        "outputId": "a01ae7c5-863b-4328-c237-16d71e97c198"
      },
      "execution_count": null,
      "outputs": [
        {
          "output_type": "display_data",
          "data": {
            "text/plain": [
              "<IPython.core.display.HTML object>"
            ],
            "text/html": [
              "\n",
              "            <style>\n",
              "                .geemap-dark {\n",
              "                    --jp-widgets-color: white;\n",
              "                    --jp-widgets-label-color: white;\n",
              "                    --jp-ui-font-color1: white;\n",
              "                    --jp-layout-color2: #454545;\n",
              "                    background-color: #383838;\n",
              "                }\n",
              "                    \n",
              "                .geemap-dark .jupyter-button {\n",
              "                    --jp-layout-color3: #383838;\n",
              "                }\n",
              "                \n",
              "                .geemap-colab {\n",
              "                    background-color: var(--colab-primary-surface-color, white);\n",
              "                }\n",
              "                    \n",
              "                .geemap-colab .jupyter-button {\n",
              "                    --jp-layout-color3: var(--colab-primary-surface-color, white);\n",
              "                }\n",
              "            </style>\n",
              "            "
            ]
          },
          "metadata": {}
        },
        {
          "output_type": "display_data",
          "data": {
            "text/plain": [
              "Map(bottom=544912.0, center=[-6.963798888520524, 110.41378118325001], controls=(WidgetControl(options=['positi…"
            ],
            "application/vnd.jupyter.widget-view+json": {
              "version_major": 2,
              "version_minor": 0,
              "model_id": "6b9280476d634c02925ab4d52b138456"
            }
          },
          "metadata": {
            "application/vnd.jupyter.widget-view+json": {
              "colab": {
                "custom_widget_manager": {
                  "url": "https://ssl.gstatic.com/colaboratory-static/widgets/colab-cdn-widget-manager/b3e629b1971e1542/manager.min.js"
                }
              }
            }
          }
        }
      ]
    },
    {
      "cell_type": "markdown",
      "source": [
        "#Menampilkan Informasi Region\n",
        "\n",
        "Informasi jumlah penduduk dan luas wilayah yogyakarta"
      ],
      "metadata": {
        "id": "_6av_WmL-UZi"
      }
    },
    {
      "cell_type": "code",
      "source": [
        "#Hitung jumlah penduduk\n",
        "Populasi = dataset.reduceRegion(\n",
        "    reducer = ee.Reducer.sum(),\n",
        "    geometry = region,\n",
        "    scale=100,\n",
        "    maxPixels=1e13,\n",
        ").get('population')\n",
        "\n",
        "#Hitung luas wilayah\n",
        "area = region.area().getInfo()\n",
        "\n",
        "#Tampilkan jumlah penduduk dan luas wilayah\n",
        "print('Jumlah Penduduk: ', Populasi.getInfo())\n",
        "print('Luas Wilayah: ', area, 'm²')"
      ],
      "metadata": {
        "colab": {
          "base_uri": "https://localhost:8080/",
          "height": 52
        },
        "id": "CY897HIp9kH2",
        "outputId": "1f2b61f6-67b5-4f00-a8d2-4f25a72a2c22"
      },
      "execution_count": null,
      "outputs": [
        {
          "output_type": "display_data",
          "data": {
            "text/plain": [
              "<IPython.core.display.HTML object>"
            ],
            "text/html": [
              "\n",
              "            <style>\n",
              "                .geemap-dark {\n",
              "                    --jp-widgets-color: white;\n",
              "                    --jp-widgets-label-color: white;\n",
              "                    --jp-ui-font-color1: white;\n",
              "                    --jp-layout-color2: #454545;\n",
              "                    background-color: #383838;\n",
              "                }\n",
              "                    \n",
              "                .geemap-dark .jupyter-button {\n",
              "                    --jp-layout-color3: #383838;\n",
              "                }\n",
              "                \n",
              "                .geemap-colab {\n",
              "                    background-color: var(--colab-primary-surface-color, white);\n",
              "                }\n",
              "                    \n",
              "                .geemap-colab .jupyter-button {\n",
              "                    --jp-layout-color3: var(--colab-primary-surface-color, white);\n",
              "                }\n",
              "            </style>\n",
              "            "
            ]
          },
          "metadata": {}
        },
        {
          "output_type": "stream",
          "name": "stdout",
          "text": [
            "Jumlah Penduduk:  978626.5627557426\n",
            "Luas Wilayah:  134556948.72148535 m²\n"
          ]
        }
      ]
    },
    {
      "cell_type": "markdown",
      "source": [
        "wilayah bencana 1"
      ],
      "metadata": {
        "id": "H1Cj9AQE9sXf"
      }
    },
    {
      "cell_type": "code",
      "source": [
        "#Hitung jumlah penduduk\n",
        "Populasi_bencana1 = dataset_bencana1.reduceRegion(\n",
        "    reducer = ee.Reducer.sum(),\n",
        "    geometry = region_bencana1,\n",
        "    scale=100,\n",
        "    maxPixels=1e13,\n",
        ").get('population')\n",
        "\n",
        "#Hitung luas wilayah\n",
        "area_bencana1 = region_bencana1.area().getInfo()\n",
        "\n",
        "#Tampilkan jumlah penduduk dan luas wilayah\n",
        "print('Jumlah Penduduk: ', Populasi_bencana1.getInfo())\n",
        "print('Luas Wilayah: ', area_bencana1, 'm²')"
      ],
      "metadata": {
        "colab": {
          "base_uri": "https://localhost:8080/",
          "height": 52
        },
        "id": "saEw_d-d9kBP",
        "outputId": "4f27949c-ae4f-4fb8-c2b2-257b664e760e"
      },
      "execution_count": null,
      "outputs": [
        {
          "output_type": "display_data",
          "data": {
            "text/plain": [
              "<IPython.core.display.HTML object>"
            ],
            "text/html": [
              "\n",
              "            <style>\n",
              "                .geemap-dark {\n",
              "                    --jp-widgets-color: white;\n",
              "                    --jp-widgets-label-color: white;\n",
              "                    --jp-ui-font-color1: white;\n",
              "                    --jp-layout-color2: #454545;\n",
              "                    background-color: #383838;\n",
              "                }\n",
              "                    \n",
              "                .geemap-dark .jupyter-button {\n",
              "                    --jp-layout-color3: #383838;\n",
              "                }\n",
              "                \n",
              "                .geemap-colab {\n",
              "                    background-color: var(--colab-primary-surface-color, white);\n",
              "                }\n",
              "                    \n",
              "                .geemap-colab .jupyter-button {\n",
              "                    --jp-layout-color3: var(--colab-primary-surface-color, white);\n",
              "                }\n",
              "            </style>\n",
              "            "
            ]
          },
          "metadata": {}
        },
        {
          "output_type": "stream",
          "name": "stdout",
          "text": [
            "Jumlah Penduduk:  57215.546908329976\n",
            "Luas Wilayah:  8095274.424425657 m²\n"
          ]
        }
      ]
    },
    {
      "cell_type": "markdown",
      "source": [
        "Wilayah bencana 2"
      ],
      "metadata": {
        "id": "bcVdeddh9vgg"
      }
    },
    {
      "cell_type": "code",
      "source": [
        "#Hitung jumlah penduduk\n",
        "Populasi_bencana2 = dataset_bencana2.reduceRegion(\n",
        "    reducer = ee.Reducer.sum(),\n",
        "    geometry = region_bencana2,\n",
        "    scale=100,\n",
        "    maxPixels=1e13,\n",
        ").get('population')\n",
        "\n",
        "#Hitung luas wilayah\n",
        "area_bencana2 = region_bencana2.area().getInfo()\n",
        "\n",
        "#Tampilkan jumlah penduduk dan luas wilayah\n",
        "print('Jumlah Penduduk: ', Populasi_bencana2.getInfo())\n",
        "print('Luas Wilayah: ', area_bencana2, 'm²')"
      ],
      "metadata": {
        "colab": {
          "base_uri": "https://localhost:8080/",
          "height": 52
        },
        "id": "O5JCgXo_9vPf",
        "outputId": "26fab281-388d-4e3c-e9e3-9300edbc7f78"
      },
      "execution_count": null,
      "outputs": [
        {
          "output_type": "display_data",
          "data": {
            "text/plain": [
              "<IPython.core.display.HTML object>"
            ],
            "text/html": [
              "\n",
              "            <style>\n",
              "                .geemap-dark {\n",
              "                    --jp-widgets-color: white;\n",
              "                    --jp-widgets-label-color: white;\n",
              "                    --jp-ui-font-color1: white;\n",
              "                    --jp-layout-color2: #454545;\n",
              "                    background-color: #383838;\n",
              "                }\n",
              "                    \n",
              "                .geemap-dark .jupyter-button {\n",
              "                    --jp-layout-color3: #383838;\n",
              "                }\n",
              "                \n",
              "                .geemap-colab {\n",
              "                    background-color: var(--colab-primary-surface-color, white);\n",
              "                }\n",
              "                    \n",
              "                .geemap-colab .jupyter-button {\n",
              "                    --jp-layout-color3: var(--colab-primary-surface-color, white);\n",
              "                }\n",
              "            </style>\n",
              "            "
            ]
          },
          "metadata": {}
        },
        {
          "output_type": "stream",
          "name": "stdout",
          "text": [
            "Jumlah Penduduk:  57836.657938414915\n",
            "Luas Wilayah:  6375021.091013051 m²\n"
          ]
        }
      ]
    },
    {
      "cell_type": "markdown",
      "source": [
        "#Menampilkan layer-layer peta dengan menggunakan fungsi UNION"
      ],
      "metadata": {
        "id": "u1zG9gQb92DZ"
      }
    },
    {
      "cell_type": "code",
      "source": [
        "region_gabungan = region_bencana1.union(region_bencana2)\n",
        "\n",
        "#Tampilkan peta\n",
        "Map.centerObject(region_gabungan, 12)\n",
        "Map.addLayerControl()\n",
        "Map"
      ],
      "metadata": {
        "colab": {
          "base_uri": "https://localhost:8080/",
          "height": 621,
          "referenced_widgets": [
            "6b9280476d634c02925ab4d52b138456",
            "cf35d19ce4a5471589f8b2b456177db8",
            "50d13a380ed340829765174fffb2e09b",
            "47a023f2d4fe4f3e99d0b337bbb8ccba",
            "8139f8a3777c4aae832c6c7b3499f2ad",
            "9f7a308038ba4ebeb39645fb63e2bfaf",
            "738be1e76b8e4ff584618f0ac7db2776",
            "b15fd9801a6648eb81f3f5ad955499d7",
            "532ffae600a74c45b08fc218c84e62aa",
            "5c3a7ceafdcf4eb5aaaa0fc43d086125",
            "0b0dd3c481f04bb4a4e46ba183614e07",
            "573b94cceabf4cdbbaeef6567c11c96f",
            "0c0cdc698c4740d6bfd5a71785decaff",
            "da18f8ac7ede4cfea2477ffc1ac01437",
            "9ef933fa8a4e49909a21de00258d3a94",
            "255aca1d231d499ba744c9123d72e9bc",
            "367527c82f2a44c29eb1279b8e4e463c",
            "5ca0ef7b6d3f4a2a87b0a4d1bf5c03b9",
            "62bf57e5953d48b284b963a3e3c94d6e",
            "495545441c58425ebb7536c2b9858a40",
            "fdc4b22d21f4404ebe25b6629408dd1a",
            "b5a59d5d75a543668f0c157702defb5a",
            "5ffc8d5aaafe4fd5aef83771b532b27b",
            "d5b19cdfa80a464691f8e2b2d62af3ee",
            "a9addd98441d4ede8b408896d6c31abe",
            "5d67ab304b7c48ae85960791502717e3",
            "e7f16531e9df478cb6f5370c56ed4582",
            "243161136f7d411a946e056b6c1dbe43",
            "5549c68b41354d149b2f96c3f7013258",
            "2b6bb160dfa743dca0e5bf902d572af2"
          ]
        },
        "id": "ZMIrfVYL9vL9",
        "outputId": "70bb334c-cb36-4a15-9982-46d263cb9343"
      },
      "execution_count": null,
      "outputs": [
        {
          "output_type": "display_data",
          "data": {
            "text/plain": [
              "<IPython.core.display.HTML object>"
            ],
            "text/html": [
              "\n",
              "            <style>\n",
              "                .geemap-dark {\n",
              "                    --jp-widgets-color: white;\n",
              "                    --jp-widgets-label-color: white;\n",
              "                    --jp-ui-font-color1: white;\n",
              "                    --jp-layout-color2: #454545;\n",
              "                    background-color: #383838;\n",
              "                }\n",
              "                    \n",
              "                .geemap-dark .jupyter-button {\n",
              "                    --jp-layout-color3: #383838;\n",
              "                }\n",
              "                \n",
              "                .geemap-colab {\n",
              "                    background-color: var(--colab-primary-surface-color, white);\n",
              "                }\n",
              "                    \n",
              "                .geemap-colab .jupyter-button {\n",
              "                    --jp-layout-color3: var(--colab-primary-surface-color, white);\n",
              "                }\n",
              "            </style>\n",
              "            "
            ]
          },
          "metadata": {}
        },
        {
          "output_type": "display_data",
          "data": {
            "text/plain": [
              "Map(bottom=544912.0, center=[-6.962010790785499, 110.4404788564362], controls=(WidgetControl(options=['positio…"
            ],
            "application/vnd.jupyter.widget-view+json": {
              "version_major": 2,
              "version_minor": 0,
              "model_id": "6b9280476d634c02925ab4d52b138456"
            }
          },
          "metadata": {
            "application/vnd.jupyter.widget-view+json": {
              "colab": {
                "custom_widget_manager": {
                  "url": "https://ssl.gstatic.com/colaboratory-static/widgets/colab-cdn-widget-manager/b3e629b1971e1542/manager.min.js"
                }
              }
            }
          }
        }
      ]
    },
    {
      "cell_type": "markdown",
      "source": [
        "#Menampilkan informasi secara keseluruhan"
      ],
      "metadata": {
        "id": "uXa67fJL94Xj"
      }
    },
    {
      "cell_type": "code",
      "source": [
        "#Total jumlah penduduk yang terdampak bencan dan luas total wilayah\n",
        "Total_penduduk = Populasi_bencana1.getInfo()+Populasi_bencana2.getInfo()\n",
        "Total_Luas = area_bencana1+area_bencana2\n",
        "\n",
        "#Tampilkan jumlah penduduk dan luas wilayah bencana ke-2\n",
        "print('Jumlah Penduduk di Wilayah Bencana ke-2: ', Total_penduduk)\n",
        "print('Luas Wilayah Bencana-2: ', Total_Luas, 'm²')"
      ],
      "metadata": {
        "colab": {
          "base_uri": "https://localhost:8080/",
          "height": 52
        },
        "id": "-DfXGQ959vJb",
        "outputId": "a484af79-46d0-4feb-c102-6dc2193a0826"
      },
      "execution_count": null,
      "outputs": [
        {
          "output_type": "display_data",
          "data": {
            "text/plain": [
              "<IPython.core.display.HTML object>"
            ],
            "text/html": [
              "\n",
              "            <style>\n",
              "                .geemap-dark {\n",
              "                    --jp-widgets-color: white;\n",
              "                    --jp-widgets-label-color: white;\n",
              "                    --jp-ui-font-color1: white;\n",
              "                    --jp-layout-color2: #454545;\n",
              "                    background-color: #383838;\n",
              "                }\n",
              "                    \n",
              "                .geemap-dark .jupyter-button {\n",
              "                    --jp-layout-color3: #383838;\n",
              "                }\n",
              "                \n",
              "                .geemap-colab {\n",
              "                    background-color: var(--colab-primary-surface-color, white);\n",
              "                }\n",
              "                    \n",
              "                .geemap-colab .jupyter-button {\n",
              "                    --jp-layout-color3: var(--colab-primary-surface-color, white);\n",
              "                }\n",
              "            </style>\n",
              "            "
            ]
          },
          "metadata": {}
        },
        {
          "output_type": "stream",
          "name": "stdout",
          "text": [
            "Jumlah Penduduk di Wilayah Bencana ke-2:  115052.20484674489\n",
            "Luas Wilayah Bencana-2:  14470295.515438708 m²\n"
          ]
        }
      ]
    },
    {
      "cell_type": "markdown",
      "source": [
        "#RADIUS DAERAH BENCANA 1-Kecamatan Genuk"
      ],
      "metadata": {
        "id": "ZYX0nOg46q8G"
      }
    },
    {
      "cell_type": "markdown",
      "source": [
        "##**Radius dan Beberapa Titik Lokasi**"
      ],
      "metadata": {
        "id": "SiS9SUWS_T_9"
      }
    },
    {
      "cell_type": "code",
      "source": [
        "!pip install folium"
      ],
      "metadata": {
        "colab": {
          "base_uri": "https://localhost:8080/",
          "height": 191
        },
        "id": "IsviPVGO-_xR",
        "outputId": "827b968d-8c5a-48f0-be15-5d95a44b825e"
      },
      "execution_count": null,
      "outputs": [
        {
          "output_type": "display_data",
          "data": {
            "text/plain": [
              "<IPython.core.display.HTML object>"
            ],
            "text/html": [
              "\n",
              "            <style>\n",
              "                .geemap-dark {\n",
              "                    --jp-widgets-color: white;\n",
              "                    --jp-widgets-label-color: white;\n",
              "                    --jp-ui-font-color1: white;\n",
              "                    --jp-layout-color2: #454545;\n",
              "                    background-color: #383838;\n",
              "                }\n",
              "                    \n",
              "                .geemap-dark .jupyter-button {\n",
              "                    --jp-layout-color3: #383838;\n",
              "                }\n",
              "                \n",
              "                .geemap-colab {\n",
              "                    background-color: var(--colab-primary-surface-color, white);\n",
              "                }\n",
              "                    \n",
              "                .geemap-colab .jupyter-button {\n",
              "                    --jp-layout-color3: var(--colab-primary-surface-color, white);\n",
              "                }\n",
              "            </style>\n",
              "            "
            ]
          },
          "metadata": {}
        },
        {
          "output_type": "stream",
          "name": "stdout",
          "text": [
            "Requirement already satisfied: folium in /usr/local/lib/python3.10/dist-packages (0.14.0)\n",
            "Requirement already satisfied: branca>=0.6.0 in /usr/local/lib/python3.10/dist-packages (from folium) (0.7.0)\n",
            "Requirement already satisfied: jinja2>=2.9 in /usr/local/lib/python3.10/dist-packages (from folium) (3.1.2)\n",
            "Requirement already satisfied: numpy in /usr/local/lib/python3.10/dist-packages (from folium) (1.23.5)\n",
            "Requirement already satisfied: requests in /usr/local/lib/python3.10/dist-packages (from folium) (2.31.0)\n",
            "Requirement already satisfied: MarkupSafe>=2.0 in /usr/local/lib/python3.10/dist-packages (from jinja2>=2.9->folium) (2.1.3)\n",
            "Requirement already satisfied: charset-normalizer<4,>=2 in /usr/local/lib/python3.10/dist-packages (from requests->folium) (3.3.2)\n",
            "Requirement already satisfied: idna<4,>=2.5 in /usr/local/lib/python3.10/dist-packages (from requests->folium) (3.6)\n",
            "Requirement already satisfied: urllib3<3,>=1.21.1 in /usr/local/lib/python3.10/dist-packages (from requests->folium) (2.0.7)\n",
            "Requirement already satisfied: certifi>=2017.4.17 in /usr/local/lib/python3.10/dist-packages (from requests->folium) (2023.11.17)\n"
          ]
        }
      ]
    },
    {
      "cell_type": "code",
      "source": [
        "import folium\n",
        "import pandas as pd"
      ],
      "metadata": {
        "colab": {
          "base_uri": "https://localhost:8080/",
          "height": 17
        },
        "id": "0Cjskmoy_aTQ",
        "outputId": "f4d14129-eb15-4ffc-fb17-dbc7f5e1e31c"
      },
      "execution_count": null,
      "outputs": [
        {
          "output_type": "display_data",
          "data": {
            "text/plain": [
              "<IPython.core.display.HTML object>"
            ],
            "text/html": [
              "\n",
              "            <style>\n",
              "                .geemap-dark {\n",
              "                    --jp-widgets-color: white;\n",
              "                    --jp-widgets-label-color: white;\n",
              "                    --jp-ui-font-color1: white;\n",
              "                    --jp-layout-color2: #454545;\n",
              "                    background-color: #383838;\n",
              "                }\n",
              "                    \n",
              "                .geemap-dark .jupyter-button {\n",
              "                    --jp-layout-color3: #383838;\n",
              "                }\n",
              "                \n",
              "                .geemap-colab {\n",
              "                    background-color: var(--colab-primary-surface-color, white);\n",
              "                }\n",
              "                    \n",
              "                .geemap-colab .jupyter-button {\n",
              "                    --jp-layout-color3: var(--colab-primary-surface-color, white);\n",
              "                }\n",
              "            </style>\n",
              "            "
            ]
          },
          "metadata": {}
        }
      ]
    },
    {
      "cell_type": "code",
      "source": [
        "#FUngsi untuk menambahkan marker pada peta folium\n",
        "def add_marker(map_obj, location, popup_text):\n",
        "  marker = folium.Marker(location=location, popup=popup_text)\n",
        "  marker.add_to(map_obj)\n",
        "\n",
        "#Baca data dari File CSV\n",
        "file_path= '/content/bencana1.xlsx'\n",
        "data = pd.read_excel(file_path)"
      ],
      "metadata": {
        "colab": {
          "base_uri": "https://localhost:8080/",
          "height": 17
        },
        "id": "GkGj074w_i3U",
        "outputId": "275b6675-aafa-4974-aa91-bb08977fe464"
      },
      "execution_count": null,
      "outputs": [
        {
          "output_type": "display_data",
          "data": {
            "text/plain": [
              "<IPython.core.display.HTML object>"
            ],
            "text/html": [
              "\n",
              "            <style>\n",
              "                .geemap-dark {\n",
              "                    --jp-widgets-color: white;\n",
              "                    --jp-widgets-label-color: white;\n",
              "                    --jp-ui-font-color1: white;\n",
              "                    --jp-layout-color2: #454545;\n",
              "                    background-color: #383838;\n",
              "                }\n",
              "                    \n",
              "                .geemap-dark .jupyter-button {\n",
              "                    --jp-layout-color3: #383838;\n",
              "                }\n",
              "                \n",
              "                .geemap-colab {\n",
              "                    background-color: var(--colab-primary-surface-color, white);\n",
              "                }\n",
              "                    \n",
              "                .geemap-colab .jupyter-button {\n",
              "                    --jp-layout-color3: var(--colab-primary-surface-color, white);\n",
              "                }\n",
              "            </style>\n",
              "            "
            ]
          },
          "metadata": {}
        }
      ]
    },
    {
      "cell_type": "markdown",
      "source": [
        "##**2. Titik centroid berada pada nilai rata-rata data koordinat latitude dan koordinat longitude.**"
      ],
      "metadata": {
        "id": "KtWUQQcuZuYI"
      }
    },
    {
      "cell_type": "code",
      "source": [
        "latitude = data['Latitude'].mean()\n",
        "longitude = data['Longitude'].mean()"
      ],
      "metadata": {
        "colab": {
          "base_uri": "https://localhost:8080/",
          "height": 17
        },
        "id": "V72i3C7VVCkW",
        "outputId": "fb6b345b-4293-406a-ec79-24c13af4effe"
      },
      "execution_count": null,
      "outputs": [
        {
          "output_type": "display_data",
          "data": {
            "text/plain": [
              "<IPython.core.display.HTML object>"
            ],
            "text/html": [
              "\n",
              "            <style>\n",
              "                .geemap-dark {\n",
              "                    --jp-widgets-color: white;\n",
              "                    --jp-widgets-label-color: white;\n",
              "                    --jp-ui-font-color1: white;\n",
              "                    --jp-layout-color2: #454545;\n",
              "                    background-color: #383838;\n",
              "                }\n",
              "                    \n",
              "                .geemap-dark .jupyter-button {\n",
              "                    --jp-layout-color3: #383838;\n",
              "                }\n",
              "                \n",
              "                .geemap-colab {\n",
              "                    background-color: var(--colab-primary-surface-color, white);\n",
              "                }\n",
              "                    \n",
              "                .geemap-colab .jupyter-button {\n",
              "                    --jp-layout-color3: var(--colab-primary-surface-color, white);\n",
              "                }\n",
              "            </style>\n",
              "            "
            ]
          },
          "metadata": {}
        }
      ]
    },
    {
      "cell_type": "markdown",
      "source": [
        "##**3. Hitung jarak titik centroid dengan dengan semua data titik lokasi.**"
      ],
      "metadata": {
        "id": "vGVljDzaZ6Ot"
      }
    },
    {
      "cell_type": "code",
      "source": [
        "#Buat peta folium\n",
        "map_obj = folium.Map(location=[latitude, longitude], zoom_start = 13)\n",
        "\n",
        "#FUngsi untuk menambhakan marker ke pusat centroid pada peta folium\n",
        "def add_marker_red(map_obj, location, popup_text, icon_color = 'red'):\n",
        "  marker = folium.Marker(location=location, popup=popup_text, icon = folium.Icon(color=icon_color))\n",
        "  marker.add_to(map_obj)\n",
        "\n",
        "#Tambahkan marker lokasi pusat (centroid)\n",
        "add_marker_red(map_obj, (latitude,longitude ), 'LOKASI CENTROID')\n",
        "\n",
        "#Tambahkan marker untuk setiap lokasi dari data csv\n",
        "Dataset_baru=[]\n",
        "for index, row in data.iterrows():\n",
        "  location = [row['Latitude'], row['Longitude']]\n",
        "  popup_text = f\"Lokasi: {row['Lokasi']}\"\n",
        "  add_marker(map_obj, location, popup_text)"
      ],
      "metadata": {
        "colab": {
          "base_uri": "https://localhost:8080/",
          "height": 17
        },
        "id": "d2RmD9zZAGPK",
        "outputId": "86f62938-d2e6-45d8-c07a-7200a1f2ddcc"
      },
      "execution_count": null,
      "outputs": [
        {
          "output_type": "display_data",
          "data": {
            "text/plain": [
              "<IPython.core.display.HTML object>"
            ],
            "text/html": [
              "\n",
              "            <style>\n",
              "                .geemap-dark {\n",
              "                    --jp-widgets-color: white;\n",
              "                    --jp-widgets-label-color: white;\n",
              "                    --jp-ui-font-color1: white;\n",
              "                    --jp-layout-color2: #454545;\n",
              "                    background-color: #383838;\n",
              "                }\n",
              "                    \n",
              "                .geemap-dark .jupyter-button {\n",
              "                    --jp-layout-color3: #383838;\n",
              "                }\n",
              "                \n",
              "                .geemap-colab {\n",
              "                    background-color: var(--colab-primary-surface-color, white);\n",
              "                }\n",
              "                    \n",
              "                .geemap-colab .jupyter-button {\n",
              "                    --jp-layout-color3: var(--colab-primary-surface-color, white);\n",
              "                }\n",
              "            </style>\n",
              "            "
            ]
          },
          "metadata": {}
        }
      ]
    },
    {
      "cell_type": "code",
      "source": [
        "#Membuat Radius\n",
        "point = ee.Geometry.Point(latitude, longitude)\n",
        "\n",
        "#Buat lingkaran (buffer) dengan jari-jari 3 km]\n",
        "buffered_point = point.buffer(3000)\n",
        "\n",
        "#Set lokasi pusat peta pada titik\n",
        "map_obj.location = [latitude, longitude]\n",
        "\n",
        "#Tambahkan lingkaran ke peta\n",
        "folium.Circle(location=[latitude, longitude],\n",
        "              radius = 3000,\n",
        "              color = 'FF0000',\n",
        "              fill = True,\n",
        "              fil_color = 'FF0000').add_to(map_obj)\n",
        "\n",
        "map_obj"
      ],
      "metadata": {
        "colab": {
          "base_uri": "https://localhost:8080/",
          "height": 914
        },
        "id": "hjURP-GrD3-f",
        "outputId": "a49462ca-bcd0-4a80-9c1e-5dba04c6ba8a"
      },
      "execution_count": null,
      "outputs": [
        {
          "output_type": "display_data",
          "data": {
            "text/plain": [
              "<IPython.core.display.HTML object>"
            ],
            "text/html": [
              "\n",
              "            <style>\n",
              "                .geemap-dark {\n",
              "                    --jp-widgets-color: white;\n",
              "                    --jp-widgets-label-color: white;\n",
              "                    --jp-ui-font-color1: white;\n",
              "                    --jp-layout-color2: #454545;\n",
              "                    background-color: #383838;\n",
              "                }\n",
              "                    \n",
              "                .geemap-dark .jupyter-button {\n",
              "                    --jp-layout-color3: #383838;\n",
              "                }\n",
              "                \n",
              "                .geemap-colab {\n",
              "                    background-color: var(--colab-primary-surface-color, white);\n",
              "                }\n",
              "                    \n",
              "                .geemap-colab .jupyter-button {\n",
              "                    --jp-layout-color3: var(--colab-primary-surface-color, white);\n",
              "                }\n",
              "            </style>\n",
              "            "
            ]
          },
          "metadata": {}
        },
        {
          "output_type": "execute_result",
          "data": {
            "text/plain": [
              "<folium.folium.Map at 0x794ef74554e0>"
            ],
            "text/html": [
              "<div style=\"width:100%;\"><div style=\"position:relative;width:100%;height:0;padding-bottom:60%;\"><span style=\"color:#565656\">Make this Notebook Trusted to load map: File -> Trust Notebook</span><iframe srcdoc=\"&lt;!DOCTYPE html&gt;\n",
              "&lt;html&gt;\n",
              "&lt;head&gt;\n",
              "    \n",
              "    &lt;meta http-equiv=&quot;content-type&quot; content=&quot;text/html; charset=UTF-8&quot; /&gt;\n",
              "    \n",
              "        &lt;script&gt;\n",
              "            L_NO_TOUCH = false;\n",
              "            L_DISABLE_3D = false;\n",
              "        &lt;/script&gt;\n",
              "    \n",
              "    &lt;style&gt;html, body {width: 100%;height: 100%;margin: 0;padding: 0;}&lt;/style&gt;\n",
              "    &lt;style&gt;#map {position:absolute;top:0;bottom:0;right:0;left:0;}&lt;/style&gt;\n",
              "    &lt;script src=&quot;https://cdn.jsdelivr.net/npm/leaflet@1.9.3/dist/leaflet.js&quot;&gt;&lt;/script&gt;\n",
              "    &lt;script src=&quot;https://code.jquery.com/jquery-1.12.4.min.js&quot;&gt;&lt;/script&gt;\n",
              "    &lt;script src=&quot;https://cdn.jsdelivr.net/npm/bootstrap@5.2.2/dist/js/bootstrap.bundle.min.js&quot;&gt;&lt;/script&gt;\n",
              "    &lt;script src=&quot;https://cdnjs.cloudflare.com/ajax/libs/Leaflet.awesome-markers/2.0.2/leaflet.awesome-markers.js&quot;&gt;&lt;/script&gt;\n",
              "    &lt;link rel=&quot;stylesheet&quot; href=&quot;https://cdn.jsdelivr.net/npm/leaflet@1.9.3/dist/leaflet.css&quot;/&gt;\n",
              "    &lt;link rel=&quot;stylesheet&quot; href=&quot;https://cdn.jsdelivr.net/npm/bootstrap@5.2.2/dist/css/bootstrap.min.css&quot;/&gt;\n",
              "    &lt;link rel=&quot;stylesheet&quot; href=&quot;https://netdna.bootstrapcdn.com/bootstrap/3.0.0/css/bootstrap.min.css&quot;/&gt;\n",
              "    &lt;link rel=&quot;stylesheet&quot; href=&quot;https://cdn.jsdelivr.net/npm/@fortawesome/fontawesome-free@6.2.0/css/all.min.css&quot;/&gt;\n",
              "    &lt;link rel=&quot;stylesheet&quot; href=&quot;https://cdnjs.cloudflare.com/ajax/libs/Leaflet.awesome-markers/2.0.2/leaflet.awesome-markers.css&quot;/&gt;\n",
              "    &lt;link rel=&quot;stylesheet&quot; href=&quot;https://cdn.jsdelivr.net/gh/python-visualization/folium/folium/templates/leaflet.awesome.rotate.min.css&quot;/&gt;\n",
              "    \n",
              "            &lt;meta name=&quot;viewport&quot; content=&quot;width=device-width,\n",
              "                initial-scale=1.0, maximum-scale=1.0, user-scalable=no&quot; /&gt;\n",
              "            &lt;style&gt;\n",
              "                #map_b55162fc99e4fab3c61fd8d91682f656 {\n",
              "                    position: relative;\n",
              "                    width: 100.0%;\n",
              "                    height: 100.0%;\n",
              "                    left: 0.0%;\n",
              "                    top: 0.0%;\n",
              "                }\n",
              "                .leaflet-container { font-size: 1rem; }\n",
              "            &lt;/style&gt;\n",
              "        \n",
              "&lt;/head&gt;\n",
              "&lt;body&gt;\n",
              "    \n",
              "    \n",
              "            &lt;div class=&quot;folium-map&quot; id=&quot;map_b55162fc99e4fab3c61fd8d91682f656&quot; &gt;&lt;/div&gt;\n",
              "        \n",
              "&lt;/body&gt;\n",
              "&lt;script&gt;\n",
              "    \n",
              "    \n",
              "            var map_b55162fc99e4fab3c61fd8d91682f656 = L.map(\n",
              "                &quot;map_b55162fc99e4fab3c61fd8d91682f656&quot;,\n",
              "                {\n",
              "                    center: [-6.95515, 110.4627],\n",
              "                    crs: L.CRS.EPSG3857,\n",
              "                    zoom: 13,\n",
              "                    zoomControl: true,\n",
              "                    preferCanvas: false,\n",
              "                }\n",
              "            );\n",
              "\n",
              "            \n",
              "\n",
              "        \n",
              "    \n",
              "            var tile_layer_a5edce98ec8f90d512c4e498919d701e = L.tileLayer(\n",
              "                &quot;https://{s}.tile.openstreetmap.org/{z}/{x}/{y}.png&quot;,\n",
              "                {&quot;attribution&quot;: &quot;Data by \\u0026copy; \\u003ca target=\\&quot;_blank\\&quot; href=\\&quot;http://openstreetmap.org\\&quot;\\u003eOpenStreetMap\\u003c/a\\u003e, under \\u003ca target=\\&quot;_blank\\&quot; href=\\&quot;http://www.openstreetmap.org/copyright\\&quot;\\u003eODbL\\u003c/a\\u003e.&quot;, &quot;detectRetina&quot;: false, &quot;maxNativeZoom&quot;: 18, &quot;maxZoom&quot;: 18, &quot;minZoom&quot;: 0, &quot;noWrap&quot;: false, &quot;opacity&quot;: 1, &quot;subdomains&quot;: &quot;abc&quot;, &quot;tms&quot;: false}\n",
              "            ).addTo(map_b55162fc99e4fab3c61fd8d91682f656);\n",
              "        \n",
              "    \n",
              "            var marker_23fc14c761451e5b0881b2aae5e911ed = L.marker(\n",
              "                [-6.95515, 110.4627],\n",
              "                {}\n",
              "            ).addTo(map_b55162fc99e4fab3c61fd8d91682f656);\n",
              "        \n",
              "    \n",
              "            var icon_f58c8f332b52448e0987f6f88f660d9b = L.AwesomeMarkers.icon(\n",
              "                {&quot;extraClasses&quot;: &quot;fa-rotate-0&quot;, &quot;icon&quot;: &quot;info-sign&quot;, &quot;iconColor&quot;: &quot;white&quot;, &quot;markerColor&quot;: &quot;red&quot;, &quot;prefix&quot;: &quot;glyphicon&quot;}\n",
              "            );\n",
              "            marker_23fc14c761451e5b0881b2aae5e911ed.setIcon(icon_f58c8f332b52448e0987f6f88f660d9b);\n",
              "        \n",
              "    \n",
              "        var popup_9d0fedd6c50a69c6ad8ad62dd94ab966 = L.popup({&quot;maxWidth&quot;: &quot;100%&quot;});\n",
              "\n",
              "        \n",
              "            \n",
              "                var html_1872295ac09c03abf455b179e4f227e3 = $(`&lt;div id=&quot;html_1872295ac09c03abf455b179e4f227e3&quot; style=&quot;width: 100.0%; height: 100.0%;&quot;&gt;LOKASI CENTROID&lt;/div&gt;`)[0];\n",
              "                popup_9d0fedd6c50a69c6ad8ad62dd94ab966.setContent(html_1872295ac09c03abf455b179e4f227e3);\n",
              "            \n",
              "        \n",
              "\n",
              "        marker_23fc14c761451e5b0881b2aae5e911ed.bindPopup(popup_9d0fedd6c50a69c6ad8ad62dd94ab966)\n",
              "        ;\n",
              "\n",
              "        \n",
              "    \n",
              "    \n",
              "            var marker_086a96c2a50fc7f38da949fca5fe78f9 = L.marker(\n",
              "                [-6.95515, 110.4627],\n",
              "                {}\n",
              "            ).addTo(map_b55162fc99e4fab3c61fd8d91682f656);\n",
              "        \n",
              "    \n",
              "        var popup_7e72f50bf2f4db3aeb5d561abbf57195 = L.popup({&quot;maxWidth&quot;: &quot;100%&quot;});\n",
              "\n",
              "        \n",
              "            \n",
              "                var html_dd5869d5ad1c5487723c768fc98d173c = $(`&lt;div id=&quot;html_dd5869d5ad1c5487723c768fc98d173c&quot; style=&quot;width: 100.0%; height: 100.0%;&quot;&gt;Lokasi: Teminal Terboyo&lt;/div&gt;`)[0];\n",
              "                popup_7e72f50bf2f4db3aeb5d561abbf57195.setContent(html_dd5869d5ad1c5487723c768fc98d173c);\n",
              "            \n",
              "        \n",
              "\n",
              "        marker_086a96c2a50fc7f38da949fca5fe78f9.bindPopup(popup_7e72f50bf2f4db3aeb5d561abbf57195)\n",
              "        ;\n",
              "\n",
              "        \n",
              "    \n",
              "    \n",
              "            var circle_1969d519c07c80b4e144c06eca84ab1b = L.circle(\n",
              "                [-6.95515, 110.4627],\n",
              "                {&quot;bubblingMouseEvents&quot;: true, &quot;color&quot;: &quot;FF0000&quot;, &quot;dashArray&quot;: null, &quot;dashOffset&quot;: null, &quot;fill&quot;: true, &quot;fillColor&quot;: &quot;FF0000&quot;, &quot;fillOpacity&quot;: 0.2, &quot;fillRule&quot;: &quot;evenodd&quot;, &quot;lineCap&quot;: &quot;round&quot;, &quot;lineJoin&quot;: &quot;round&quot;, &quot;opacity&quot;: 1.0, &quot;radius&quot;: 3000, &quot;stroke&quot;: true, &quot;weight&quot;: 3}\n",
              "            ).addTo(map_b55162fc99e4fab3c61fd8d91682f656);\n",
              "        \n",
              "&lt;/script&gt;\n",
              "&lt;/html&gt;\" style=\"position:absolute;width:100%;height:100%;left:0;top:0;border:none !important;\" allowfullscreen webkitallowfullscreen mozallowfullscreen></iframe></div></div>"
            ]
          },
          "metadata": {},
          "execution_count": 8
        }
      ]
    },
    {
      "cell_type": "markdown",
      "source": [
        "#RADIUS DAERAH BENCANA 2-Kecamatan Semarang Utara\n"
      ],
      "metadata": {
        "id": "kSo6ElW9Fvgo"
      }
    },
    {
      "cell_type": "code",
      "source": [
        "#FUngsi untuk menambahkan marker pada peta folium\n",
        "def add_marker(map_obj, location, popup_text):\n",
        "  marker = folium.Marker(location=location, popup=popup_text)\n",
        "  marker.add_to(map_obj)\n",
        "\n",
        "#Baca data dari File CSV\n",
        "file_path= '/content/Bencana2.xlsx'\n",
        "data = pd.read_excel(file_path)"
      ],
      "metadata": {
        "colab": {
          "base_uri": "https://localhost:8080/",
          "height": 17
        },
        "outputId": "0c363ba8-354d-4f75-e6d3-56e75a46a675",
        "id": "qi5jOywgF3Bk"
      },
      "execution_count": null,
      "outputs": [
        {
          "output_type": "display_data",
          "data": {
            "text/plain": [
              "<IPython.core.display.HTML object>"
            ],
            "text/html": [
              "\n",
              "            <style>\n",
              "                .geemap-dark {\n",
              "                    --jp-widgets-color: white;\n",
              "                    --jp-widgets-label-color: white;\n",
              "                    --jp-ui-font-color1: white;\n",
              "                    --jp-layout-color2: #454545;\n",
              "                    background-color: #383838;\n",
              "                }\n",
              "                    \n",
              "                .geemap-dark .jupyter-button {\n",
              "                    --jp-layout-color3: #383838;\n",
              "                }\n",
              "                \n",
              "                .geemap-colab {\n",
              "                    background-color: var(--colab-primary-surface-color, white);\n",
              "                }\n",
              "                    \n",
              "                .geemap-colab .jupyter-button {\n",
              "                    --jp-layout-color3: var(--colab-primary-surface-color, white);\n",
              "                }\n",
              "            </style>\n",
              "            "
            ]
          },
          "metadata": {}
        }
      ]
    },
    {
      "cell_type": "markdown",
      "source": [
        "##**2. Titik centroid berada pada nilai rata-rata data koordinat latitude dan koordinat longitude.**"
      ],
      "metadata": {
        "id": "c8UoGmVaF3Bl"
      }
    },
    {
      "cell_type": "code",
      "source": [
        "latitude = data['Latitude'].mean()\n",
        "longitude = data['Longitude'].mean()"
      ],
      "metadata": {
        "colab": {
          "base_uri": "https://localhost:8080/",
          "height": 17
        },
        "outputId": "b312381c-7fcb-4c4f-ea88-53abd56eabac",
        "id": "5vcnoVpTF3Bl"
      },
      "execution_count": null,
      "outputs": [
        {
          "output_type": "display_data",
          "data": {
            "text/plain": [
              "<IPython.core.display.HTML object>"
            ],
            "text/html": [
              "\n",
              "            <style>\n",
              "                .geemap-dark {\n",
              "                    --jp-widgets-color: white;\n",
              "                    --jp-widgets-label-color: white;\n",
              "                    --jp-ui-font-color1: white;\n",
              "                    --jp-layout-color2: #454545;\n",
              "                    background-color: #383838;\n",
              "                }\n",
              "                    \n",
              "                .geemap-dark .jupyter-button {\n",
              "                    --jp-layout-color3: #383838;\n",
              "                }\n",
              "                \n",
              "                .geemap-colab {\n",
              "                    background-color: var(--colab-primary-surface-color, white);\n",
              "                }\n",
              "                    \n",
              "                .geemap-colab .jupyter-button {\n",
              "                    --jp-layout-color3: var(--colab-primary-surface-color, white);\n",
              "                }\n",
              "            </style>\n",
              "            "
            ]
          },
          "metadata": {}
        }
      ]
    },
    {
      "cell_type": "markdown",
      "source": [
        "##**3. Hitung jarak titik centroid dengan dengan semua data titik lokasi.**"
      ],
      "metadata": {
        "id": "BnzqxGywF3Bm"
      }
    },
    {
      "cell_type": "code",
      "source": [
        "#Buat peta folium\n",
        "map_obj = folium.Map(location=[latitude, longitude], zoom_start = 13)\n",
        "\n",
        "#FUngsi untuk menambhakan marker ke pusat centroid pada peta folium\n",
        "def add_marker_red(map_obj, location, popup_text, icon_color = 'red'):\n",
        "  marker = folium.Marker(location=location, popup=popup_text, icon = folium.Icon(color=icon_color))\n",
        "  marker.add_to(map_obj)\n",
        "\n",
        "#Tambahkan marker lokasi pusat (centroid)\n",
        "add_marker_red(map_obj, (latitude,longitude ), 'LOKASI CENTROID')\n",
        "\n",
        "#Tambahkan marker untuk setiap lokasi dari data csv\n",
        "Dataset_baru=[]\n",
        "for index, row in data.iterrows():\n",
        "  location = [row['Latitude'], row['Longitude']]\n",
        "  popup_text = f\"Lokasi: {row['Lokasi']}\"\n",
        "  add_marker(map_obj, location, popup_text)"
      ],
      "metadata": {
        "colab": {
          "base_uri": "https://localhost:8080/",
          "height": 17
        },
        "outputId": "807cac06-bee8-4c14-aef0-e47314666e6f",
        "id": "PdFvIRisF3Bm"
      },
      "execution_count": null,
      "outputs": [
        {
          "output_type": "display_data",
          "data": {
            "text/plain": [
              "<IPython.core.display.HTML object>"
            ],
            "text/html": [
              "\n",
              "            <style>\n",
              "                .geemap-dark {\n",
              "                    --jp-widgets-color: white;\n",
              "                    --jp-widgets-label-color: white;\n",
              "                    --jp-ui-font-color1: white;\n",
              "                    --jp-layout-color2: #454545;\n",
              "                    background-color: #383838;\n",
              "                }\n",
              "                    \n",
              "                .geemap-dark .jupyter-button {\n",
              "                    --jp-layout-color3: #383838;\n",
              "                }\n",
              "                \n",
              "                .geemap-colab {\n",
              "                    background-color: var(--colab-primary-surface-color, white);\n",
              "                }\n",
              "                    \n",
              "                .geemap-colab .jupyter-button {\n",
              "                    --jp-layout-color3: var(--colab-primary-surface-color, white);\n",
              "                }\n",
              "            </style>\n",
              "            "
            ]
          },
          "metadata": {}
        }
      ]
    },
    {
      "cell_type": "code",
      "source": [
        "#Membuat Radius\n",
        "point = ee.Geometry.Point(latitude, longitude)\n",
        "\n",
        "#Buat lingkaran (buffer) dengan jari-jari 3 km]\n",
        "buffered_point = point.buffer(3000)\n",
        "\n",
        "#Set lokasi pusat peta pada titik\n",
        "map_obj.location = [latitude, longitude]\n",
        "\n",
        "#Tambahkan lingkaran ke peta\n",
        "folium.Circle(location=[latitude, longitude],\n",
        "              radius = 3000,\n",
        "              color = 'FF0000',\n",
        "              fill = True,\n",
        "              fil_color = 'FF0000').add_to(map_obj)\n",
        "\n",
        "map_obj"
      ],
      "metadata": {
        "colab": {
          "base_uri": "https://localhost:8080/",
          "height": 914
        },
        "outputId": "3a15737a-06cd-4222-c39b-c3024cf0e3f0",
        "id": "F7s9R-b4F3Bn"
      },
      "execution_count": null,
      "outputs": [
        {
          "output_type": "display_data",
          "data": {
            "text/plain": [
              "<IPython.core.display.HTML object>"
            ],
            "text/html": [
              "\n",
              "            <style>\n",
              "                .geemap-dark {\n",
              "                    --jp-widgets-color: white;\n",
              "                    --jp-widgets-label-color: white;\n",
              "                    --jp-ui-font-color1: white;\n",
              "                    --jp-layout-color2: #454545;\n",
              "                    background-color: #383838;\n",
              "                }\n",
              "                    \n",
              "                .geemap-dark .jupyter-button {\n",
              "                    --jp-layout-color3: #383838;\n",
              "                }\n",
              "                \n",
              "                .geemap-colab {\n",
              "                    background-color: var(--colab-primary-surface-color, white);\n",
              "                }\n",
              "                    \n",
              "                .geemap-colab .jupyter-button {\n",
              "                    --jp-layout-color3: var(--colab-primary-surface-color, white);\n",
              "                }\n",
              "            </style>\n",
              "            "
            ]
          },
          "metadata": {}
        },
        {
          "output_type": "execute_result",
          "data": {
            "text/plain": [
              "<folium.folium.Map at 0x794ef74b3100>"
            ],
            "text/html": [
              "<div style=\"width:100%;\"><div style=\"position:relative;width:100%;height:0;padding-bottom:60%;\"><span style=\"color:#565656\">Make this Notebook Trusted to load map: File -> Trust Notebook</span><iframe srcdoc=\"&lt;!DOCTYPE html&gt;\n",
              "&lt;html&gt;\n",
              "&lt;head&gt;\n",
              "    \n",
              "    &lt;meta http-equiv=&quot;content-type&quot; content=&quot;text/html; charset=UTF-8&quot; /&gt;\n",
              "    \n",
              "        &lt;script&gt;\n",
              "            L_NO_TOUCH = false;\n",
              "            L_DISABLE_3D = false;\n",
              "        &lt;/script&gt;\n",
              "    \n",
              "    &lt;style&gt;html, body {width: 100%;height: 100%;margin: 0;padding: 0;}&lt;/style&gt;\n",
              "    &lt;style&gt;#map {position:absolute;top:0;bottom:0;right:0;left:0;}&lt;/style&gt;\n",
              "    &lt;script src=&quot;https://cdn.jsdelivr.net/npm/leaflet@1.9.3/dist/leaflet.js&quot;&gt;&lt;/script&gt;\n",
              "    &lt;script src=&quot;https://code.jquery.com/jquery-1.12.4.min.js&quot;&gt;&lt;/script&gt;\n",
              "    &lt;script src=&quot;https://cdn.jsdelivr.net/npm/bootstrap@5.2.2/dist/js/bootstrap.bundle.min.js&quot;&gt;&lt;/script&gt;\n",
              "    &lt;script src=&quot;https://cdnjs.cloudflare.com/ajax/libs/Leaflet.awesome-markers/2.0.2/leaflet.awesome-markers.js&quot;&gt;&lt;/script&gt;\n",
              "    &lt;link rel=&quot;stylesheet&quot; href=&quot;https://cdn.jsdelivr.net/npm/leaflet@1.9.3/dist/leaflet.css&quot;/&gt;\n",
              "    &lt;link rel=&quot;stylesheet&quot; href=&quot;https://cdn.jsdelivr.net/npm/bootstrap@5.2.2/dist/css/bootstrap.min.css&quot;/&gt;\n",
              "    &lt;link rel=&quot;stylesheet&quot; href=&quot;https://netdna.bootstrapcdn.com/bootstrap/3.0.0/css/bootstrap.min.css&quot;/&gt;\n",
              "    &lt;link rel=&quot;stylesheet&quot; href=&quot;https://cdn.jsdelivr.net/npm/@fortawesome/fontawesome-free@6.2.0/css/all.min.css&quot;/&gt;\n",
              "    &lt;link rel=&quot;stylesheet&quot; href=&quot;https://cdnjs.cloudflare.com/ajax/libs/Leaflet.awesome-markers/2.0.2/leaflet.awesome-markers.css&quot;/&gt;\n",
              "    &lt;link rel=&quot;stylesheet&quot; href=&quot;https://cdn.jsdelivr.net/gh/python-visualization/folium/folium/templates/leaflet.awesome.rotate.min.css&quot;/&gt;\n",
              "    \n",
              "            &lt;meta name=&quot;viewport&quot; content=&quot;width=device-width,\n",
              "                initial-scale=1.0, maximum-scale=1.0, user-scalable=no&quot; /&gt;\n",
              "            &lt;style&gt;\n",
              "                #map_fc5c515e90fece2ebf7f4baa1c0846a6 {\n",
              "                    position: relative;\n",
              "                    width: 100.0%;\n",
              "                    height: 100.0%;\n",
              "                    left: 0.0%;\n",
              "                    top: 0.0%;\n",
              "                }\n",
              "                .leaflet-container { font-size: 1rem; }\n",
              "            &lt;/style&gt;\n",
              "        \n",
              "&lt;/head&gt;\n",
              "&lt;body&gt;\n",
              "    \n",
              "    \n",
              "            &lt;div class=&quot;folium-map&quot; id=&quot;map_fc5c515e90fece2ebf7f4baa1c0846a6&quot; &gt;&lt;/div&gt;\n",
              "        \n",
              "&lt;/body&gt;\n",
              "&lt;script&gt;\n",
              "    \n",
              "    \n",
              "            var map_fc5c515e90fece2ebf7f4baa1c0846a6 = L.map(\n",
              "                &quot;map_fc5c515e90fece2ebf7f4baa1c0846a6&quot;,\n",
              "                {\n",
              "                    center: [-6.95678, 110.423],\n",
              "                    crs: L.CRS.EPSG3857,\n",
              "                    zoom: 13,\n",
              "                    zoomControl: true,\n",
              "                    preferCanvas: false,\n",
              "                }\n",
              "            );\n",
              "\n",
              "            \n",
              "\n",
              "        \n",
              "    \n",
              "            var tile_layer_e8c9b914416f5c9a48d6330fda43c893 = L.tileLayer(\n",
              "                &quot;https://{s}.tile.openstreetmap.org/{z}/{x}/{y}.png&quot;,\n",
              "                {&quot;attribution&quot;: &quot;Data by \\u0026copy; \\u003ca target=\\&quot;_blank\\&quot; href=\\&quot;http://openstreetmap.org\\&quot;\\u003eOpenStreetMap\\u003c/a\\u003e, under \\u003ca target=\\&quot;_blank\\&quot; href=\\&quot;http://www.openstreetmap.org/copyright\\&quot;\\u003eODbL\\u003c/a\\u003e.&quot;, &quot;detectRetina&quot;: false, &quot;maxNativeZoom&quot;: 18, &quot;maxZoom&quot;: 18, &quot;minZoom&quot;: 0, &quot;noWrap&quot;: false, &quot;opacity&quot;: 1, &quot;subdomains&quot;: &quot;abc&quot;, &quot;tms&quot;: false}\n",
              "            ).addTo(map_fc5c515e90fece2ebf7f4baa1c0846a6);\n",
              "        \n",
              "    \n",
              "            var marker_df461d49f8dc08e271d9769a3fc2c68a = L.marker(\n",
              "                [-6.95678, 110.423],\n",
              "                {}\n",
              "            ).addTo(map_fc5c515e90fece2ebf7f4baa1c0846a6);\n",
              "        \n",
              "    \n",
              "            var icon_7c03761078df12bfab4d8b27136dbfe3 = L.AwesomeMarkers.icon(\n",
              "                {&quot;extraClasses&quot;: &quot;fa-rotate-0&quot;, &quot;icon&quot;: &quot;info-sign&quot;, &quot;iconColor&quot;: &quot;white&quot;, &quot;markerColor&quot;: &quot;red&quot;, &quot;prefix&quot;: &quot;glyphicon&quot;}\n",
              "            );\n",
              "            marker_df461d49f8dc08e271d9769a3fc2c68a.setIcon(icon_7c03761078df12bfab4d8b27136dbfe3);\n",
              "        \n",
              "    \n",
              "        var popup_9312e26c4a872dd3cb3c8813e7a64b9d = L.popup({&quot;maxWidth&quot;: &quot;100%&quot;});\n",
              "\n",
              "        \n",
              "            \n",
              "                var html_49755ac8cc37fbbc1c3d92c81a4db23e = $(`&lt;div id=&quot;html_49755ac8cc37fbbc1c3d92c81a4db23e&quot; style=&quot;width: 100.0%; height: 100.0%;&quot;&gt;LOKASI CENTROID&lt;/div&gt;`)[0];\n",
              "                popup_9312e26c4a872dd3cb3c8813e7a64b9d.setContent(html_49755ac8cc37fbbc1c3d92c81a4db23e);\n",
              "            \n",
              "        \n",
              "\n",
              "        marker_df461d49f8dc08e271d9769a3fc2c68a.bindPopup(popup_9312e26c4a872dd3cb3c8813e7a64b9d)\n",
              "        ;\n",
              "\n",
              "        \n",
              "    \n",
              "    \n",
              "            var marker_30775806bd186188d61ca6a50ed3ff7c = L.marker(\n",
              "                [-6.95678, 110.423],\n",
              "                {}\n",
              "            ).addTo(map_fc5c515e90fece2ebf7f4baa1c0846a6);\n",
              "        \n",
              "    \n",
              "        var popup_8972642b7b13d8e3410dc530e4067e46 = L.popup({&quot;maxWidth&quot;: &quot;100%&quot;});\n",
              "\n",
              "        \n",
              "            \n",
              "                var html_3721604cebf70ceeebd1bc7fe9e19a6d = $(`&lt;div id=&quot;html_3721604cebf70ceeebd1bc7fe9e19a6d&quot; style=&quot;width: 100.0%; height: 100.0%;&quot;&gt;Lokasi: Jalan Raya Pantura&lt;/div&gt;`)[0];\n",
              "                popup_8972642b7b13d8e3410dc530e4067e46.setContent(html_3721604cebf70ceeebd1bc7fe9e19a6d);\n",
              "            \n",
              "        \n",
              "\n",
              "        marker_30775806bd186188d61ca6a50ed3ff7c.bindPopup(popup_8972642b7b13d8e3410dc530e4067e46)\n",
              "        ;\n",
              "\n",
              "        \n",
              "    \n",
              "    \n",
              "            var circle_a4a5c2135b4067ed9351c47eaefeab2a = L.circle(\n",
              "                [-6.95678, 110.423],\n",
              "                {&quot;bubblingMouseEvents&quot;: true, &quot;color&quot;: &quot;FF0000&quot;, &quot;dashArray&quot;: null, &quot;dashOffset&quot;: null, &quot;fill&quot;: true, &quot;fillColor&quot;: &quot;FF0000&quot;, &quot;fillOpacity&quot;: 0.2, &quot;fillRule&quot;: &quot;evenodd&quot;, &quot;lineCap&quot;: &quot;round&quot;, &quot;lineJoin&quot;: &quot;round&quot;, &quot;opacity&quot;: 1.0, &quot;radius&quot;: 3000, &quot;stroke&quot;: true, &quot;weight&quot;: 3}\n",
              "            ).addTo(map_fc5c515e90fece2ebf7f4baa1c0846a6);\n",
              "        \n",
              "&lt;/script&gt;\n",
              "&lt;/html&gt;\" style=\"position:absolute;width:100%;height:100%;left:0;top:0;border:none !important;\" allowfullscreen webkitallowfullscreen mozallowfullscreen></iframe></div></div>"
            ]
          },
          "metadata": {},
          "execution_count": 12
        }
      ]
    },
    {
      "cell_type": "code",
      "source": [],
      "metadata": {
        "id": "J3ZKlapfGndb"
      },
      "execution_count": null,
      "outputs": []
    },
    {
      "cell_type": "markdown",
      "source": [
        "#**JALUR EVAKUASI**"
      ],
      "metadata": {
        "id": "rRZbX6SKu160"
      }
    },
    {
      "cell_type": "markdown",
      "source": [
        "##Jlur Evakuasi Derah Bencana 1 - Genuk"
      ],
      "metadata": {
        "id": "q4AHdQBHvh5k"
      }
    },
    {
      "cell_type": "code",
      "source": [
        "import folium\n",
        "\n",
        "def create_evacuation_map(evacuation_path):\n",
        "    # Inisialisasi peta menggunakan koordinat tengah\n",
        "    m = folium.Map(location=[-6.95515, 110.4627], zoom_start=12)\n",
        "\n",
        "    # Tambahkan marker untuk Terminal Terboyo\n",
        "    folium.Marker(\n",
        "        location=[-6.95515, 110.4627],\n",
        "        popup='Terminal Terboyo',\n",
        "        icon=folium.Icon(color='blue')\n",
        "    ).add_to(m)\n",
        "\n",
        "    # Tambahkan jalur evakuasi ke peta\n",
        "    folium.PolyLine(\n",
        "        locations=evacuation_path,\n",
        "        color='red',\n",
        "        weight=5,\n",
        "        opacity=0.7\n",
        "    ).add_to(m)\n",
        "\n",
        "    # Tambahkan lingkaran dengan radius 3 km\n",
        "    folium.Circle(\n",
        "        location=[-6.95515, 110.4627],\n",
        "        radius=3000,  # Radius dalam meter\n",
        "        color='green',\n",
        "        fill=True,\n",
        "        fill_color='green',\n",
        "        fill_opacity=0.2\n",
        "    ).add_to(m)\n",
        "\n",
        "    # Simpan peta ke file HTML\n",
        "    file_path = 'evacuation_map_bcna1.html'\n",
        "    m.save(file_path)\n",
        "\n",
        "    return file_path\n",
        "\n",
        "def display_evacuation_line(evacuation_path):\n",
        "    # Buat peta tanpa marker atau tambahan\n",
        "    m = folium.Map(location=[-6.95515, 110.4627], zoom_start=12)\n",
        "\n",
        "    # Tambahkan marker untuk Terminal Terboyo\n",
        "    folium.Marker(\n",
        "        location=[-6.95515, 110.4627],\n",
        "        popup='Terminal Terboyo',\n",
        "        icon=folium.Icon(color='blue')\n",
        "    ).add_to(m)\n",
        "\n",
        "    # Tambahkan jalur evakuasi ke peta dengan warna dan ketebalan yang berbeda\n",
        "    folium.PolyLine(\n",
        "        locations=evacuation_path,\n",
        "        color='blue',\n",
        "        weight=8,  # Ubah nilai ini untuk mengatur ketebalan garis\n",
        "        opacity=0.9\n",
        "    ).add_to(m)\n",
        "\n",
        "    # Tambahkan lingkaran dengan radius 3 km\n",
        "    folium.Circle(\n",
        "        location=[-6.95515, 110.4627],\n",
        "        radius=3000,  # Radius dalam meter\n",
        "        color='green',\n",
        "        fill=True,\n",
        "        fill_color='green',\n",
        "        fill_opacity=0.2\n",
        "    ).add_to(m)\n",
        "\n",
        "    # Simpan peta ke file HTML\n",
        "    file_path = 'evacuation_line_bcna1.html'\n",
        "    m.save(file_path)\n",
        "\n",
        "    return file_path\n",
        "\n",
        "if __name__ == \"__main__\":\n",
        "    # Koordinat jalur evakuasi, ganti sesuai kebutuhan\n",
        "    evacuation_path_coordinates = [\n",
        "        [-6.95515, 110.4627],\n",
        "        [-6.9554172479882075, 110.46846896820941],\n",
        "        [-6.9598442699169185, 110.46952830508377],\n",
        "        [-6.966761516117089, 110.46947276661355],\n",
        "        [-6.976501108137787, 110.46713161801513],\n",
        "        [-6.978346229775357, 110.4692969479446],\n",
        "        [-6.981682402249432, 110.4684345462167],\n",
        "        [-6.9825608997667175, 110.47022740444466],\n",
        "        [-6.987336326549896, 110.46963733063305]\n",
        "        # ... tambahkan koordinat lainnya sesuai kebutuhan\n",
        "    ]\n",
        "\n",
        "    # Buat peta dengan garis evakuasi, lingkaran radius 3 km, dan marker Terminal Terboyo\n",
        "    evacuation_map_path = create_evacuation_map(evacuation_path_coordinates)\n",
        "\n",
        "    # Tampilkan garis evakuasi, lingkaran radius 3 km, dan marker Terminal Terboyo tanpa membuka peta\n",
        "    evacuation_line_path = display_evacuation_line(evacuation_path_coordinates)\n",
        "\n",
        "    print(f\"Evacuation Map Path: {evacuation_map_path}\")\n",
        "    print(f\"Evacuation Line Path: {evacuation_line_path}\")\n"
      ],
      "metadata": {
        "colab": {
          "base_uri": "https://localhost:8080/",
          "height": 52
        },
        "id": "XOdnYxmVtsRY",
        "outputId": "05b32e64-4c7c-4a7c-8465-b9745c2098fa"
      },
      "execution_count": null,
      "outputs": [
        {
          "output_type": "display_data",
          "data": {
            "text/plain": [
              "<IPython.core.display.HTML object>"
            ],
            "text/html": [
              "\n",
              "            <style>\n",
              "                .geemap-dark {\n",
              "                    --jp-widgets-color: white;\n",
              "                    --jp-widgets-label-color: white;\n",
              "                    --jp-ui-font-color1: white;\n",
              "                    --jp-layout-color2: #454545;\n",
              "                    background-color: #383838;\n",
              "                }\n",
              "                    \n",
              "                .geemap-dark .jupyter-button {\n",
              "                    --jp-layout-color3: #383838;\n",
              "                }\n",
              "                \n",
              "                .geemap-colab {\n",
              "                    background-color: var(--colab-primary-surface-color, white);\n",
              "                }\n",
              "                    \n",
              "                .geemap-colab .jupyter-button {\n",
              "                    --jp-layout-color3: var(--colab-primary-surface-color, white);\n",
              "                }\n",
              "            </style>\n",
              "            "
            ]
          },
          "metadata": {}
        },
        {
          "output_type": "stream",
          "name": "stdout",
          "text": [
            "Evacuation Map Path: evacuation_map_bcna1.html\n",
            "Evacuation Line Path: evacuation_line_bcna1.html\n"
          ]
        }
      ]
    },
    {
      "cell_type": "markdown",
      "source": [
        "##Jalur Evakuasi Daerah Bencana 2 - Semarng Utara"
      ],
      "metadata": {
        "id": "OK_wwoiwvYYQ"
      }
    },
    {
      "cell_type": "code",
      "source": [
        "import folium\n",
        "\n",
        "def create_evacuation_map(evacuation_path):\n",
        "    # Inisialisasi peta menggunakan koordinat tengah\n",
        "    m = folium.Map(location=[-6.95678, 110.4230], zoom_start=12)\n",
        "\n",
        "    # Tambahkan marker untuk Jalan Raya Pantura\n",
        "    folium.Marker(\n",
        "        location=[-6.95678, 110.42307],\n",
        "        popup='Jalan Raya Pantura',\n",
        "        icon=folium.Icon(color='blue')\n",
        "    ).add_to(m)\n",
        "\n",
        "    # Tambahkan jalur evakuasi ke peta\n",
        "    folium.PolyLine(\n",
        "        locations=evacuation_path,\n",
        "        color='red',\n",
        "        weight=5,\n",
        "        opacity=0.7\n",
        "    ).add_to(m)\n",
        "\n",
        "    # Tambahkan lingkaran dengan radius 3 km\n",
        "    folium.Circle(\n",
        "        location=[-6.95678, 110.4230],\n",
        "        radius=3000,  # Radius dalam meter\n",
        "        color='green',\n",
        "        fill=True,\n",
        "        fill_color='green',\n",
        "        fill_opacity=0.2\n",
        "    ).add_to(m)\n",
        "\n",
        "    # Simpan peta ke file HTML\n",
        "    file_path = 'evacuation_map_bcna2.html'\n",
        "    m.save(file_path)\n",
        "\n",
        "    return file_path\n",
        "\n",
        "def display_evacuation_line(evacuation_path):\n",
        "    # Buat peta tanpa marker atau tambahan\n",
        "    m = folium.Map(location=[-6.95515, 110.4627], zoom_start=12)\n",
        "\n",
        "    # Tambahkan marker untuk Jalan Pantura\n",
        "    folium.Marker(\n",
        "        location=[-6.95678, 110.4230],\n",
        "        popup='Jalan Raya Pantura',\n",
        "        icon=folium.Icon(color='blue')\n",
        "    ).add_to(m)\n",
        "\n",
        "    # Tambahkan jalur evakuasi ke peta dengan warna dan ketebalan yang berbeda\n",
        "    folium.PolyLine(\n",
        "        locations=evacuation_path,\n",
        "        color='blue',\n",
        "        weight=8,  # Ubah nilai ini untuk mengatur ketebalan garis\n",
        "        opacity=0.9\n",
        "    ).add_to(m)\n",
        "\n",
        "    # Tambahkan lingkaran dengan radius 3 km\n",
        "    folium.Circle(\n",
        "        location=[-6.95678, 110.4230],\n",
        "        radius=3000,  # Radius dalam meter\n",
        "        color='green',\n",
        "        fill=True,\n",
        "        fill_color='green',\n",
        "        fill_opacity=0.2\n",
        "    ).add_to(m)\n",
        "\n",
        "    # Simpan peta ke file HTML\n",
        "    file_path = 'evacuation_line_bcna2.html'\n",
        "    m.save(file_path)\n",
        "\n",
        "    return file_path\n",
        "\n",
        "if __name__ == \"__main__\":\n",
        "    # Koordinat jalur evakuasi, ganti sesuai kebutuhan\n",
        "    evacuation_path_coordinates = [\n",
        "        [-6.95678, 110.4230],\n",
        "        [-6.9565074099085455, 110.42407210601678],\n",
        "        [-6.968520265362663, 110.424930659958],\n",
        "        [-6.967582866771775, 110.43008062225486],\n",
        "        [-6.96996836663542, 110.4306815539518],\n",
        "        [-6.98564475318419, 110.4314549424786],\n",
        "        [-6.985559396671366, 110.43720620640308],\n",
        "        [-6.991267873859654, 110.43651999936496]\n",
        "        # ... tambahkan koordinat lainnya sesuai kebutuhan\n",
        "    ]\n",
        "\n",
        "    # Buat peta dengan garis evakuasi, lingkaran radius 3 km, dan marker Terminal Terboyo\n",
        "    evacuation_map_path = create_evacuation_map(evacuation_path_coordinates)\n",
        "\n",
        "    # Tampilkan garis evakuasi, lingkaran radius 3 km, dan marker Terminal Terboyo tanpa membuka peta\n",
        "    evacuation_line_path = display_evacuation_line(evacuation_path_coordinates)\n",
        "\n",
        "    print(f\"Evacuation Map Path: {evacuation_map_path}\")\n",
        "    print(f\"Evacuation Line Path: {evacuation_line_path}\")\n"
      ],
      "metadata": {
        "colab": {
          "base_uri": "https://localhost:8080/",
          "height": 52
        },
        "id": "Dd1l34MCuBE_",
        "outputId": "fcc2029e-5723-466b-ff76-fc1b27a60b49"
      },
      "execution_count": null,
      "outputs": [
        {
          "output_type": "display_data",
          "data": {
            "text/plain": [
              "<IPython.core.display.HTML object>"
            ],
            "text/html": [
              "\n",
              "            <style>\n",
              "                .geemap-dark {\n",
              "                    --jp-widgets-color: white;\n",
              "                    --jp-widgets-label-color: white;\n",
              "                    --jp-ui-font-color1: white;\n",
              "                    --jp-layout-color2: #454545;\n",
              "                    background-color: #383838;\n",
              "                }\n",
              "                    \n",
              "                .geemap-dark .jupyter-button {\n",
              "                    --jp-layout-color3: #383838;\n",
              "                }\n",
              "                \n",
              "                .geemap-colab {\n",
              "                    background-color: var(--colab-primary-surface-color, white);\n",
              "                }\n",
              "                    \n",
              "                .geemap-colab .jupyter-button {\n",
              "                    --jp-layout-color3: var(--colab-primary-surface-color, white);\n",
              "                }\n",
              "            </style>\n",
              "            "
            ]
          },
          "metadata": {}
        },
        {
          "output_type": "stream",
          "name": "stdout",
          "text": [
            "Evacuation Map Path: evacuation_map_bcna2.html\n",
            "Evacuation Line Path: evacuation_line_bcna2.html\n"
          ]
        }
      ]
    },
    {
      "cell_type": "code",
      "source": [],
      "metadata": {
        "id": "x6338GjBwxrQ"
      },
      "execution_count": null,
      "outputs": []
    }
  ]
}